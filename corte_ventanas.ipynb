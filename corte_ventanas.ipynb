{
 "cells": [
  {
   "cell_type": "code",
   "execution_count": 4,
   "metadata": {},
   "outputs": [],
   "source": [
    "%matplotlib inline\n",
    "# %matplotlib notebook\n",
    "import rasterio\n",
    "from shapely.geometry import box\n",
    "import geopandas as gpd\n",
    "from rasterio.mask import mask\n",
    "import pandas as pd\n",
    "import numpy as np\n",
    "import matplotlib"
   ]
  },
  {
   "cell_type": "code",
   "execution_count": 7,
   "metadata": {},
   "outputs": [],
   "source": [
    "# url_imagen = '/home/diego/Proyecto Vivero/data/01_VIVERO/01_imagenes/imagen_mesones_rgb.tif'\n",
    "# shp = '/home/diego/Proyecto Vivero/data/01_VIVERO/02_puntos_plantas/plantas_mesones_2.shp'\n",
    "# url_salida = \"/home/diego/Proyecto Vivero/train2\"\n",
    "url_imagen = 'D:/Memoria/Codigo/AraucoNursery/PROYECTOS/VIVERO/imagenes/imagen_mesones_rgb.tif'\n",
    "shp = 'D:/Memoria/Codigo/AraucoNursery/PROYECTOS/VIVERO/puntos_plantas/plantas_mesones_2.shp'\n",
    "url_salida = \"D:/Memoria/Codigo/AraucoNursery/train\""
   ]
  },
  {
   "cell_type": "code",
   "execution_count": 8,
   "metadata": {},
   "outputs": [],
   "source": [
    "puntos = gpd.read_file(shp)\n",
    "raster = rasterio.open(url_imagen)"
   ]
  },
  {
   "cell_type": "code",
   "execution_count": 9,
   "metadata": {},
   "outputs": [],
   "source": [
    "offsetX = 0\n",
    "offsetY = 0\n",
    "width = 100\n",
    "height = 100\n",
    "step = 10\n",
    "cuentas = pd.DataFrame(columns=['imagen', 'cant_arboles'])"
   ]
  },
  {
   "cell_type": "code",
   "execution_count": 14,
   "metadata": {
    "scrolled": true
   },
   "outputs": [
    {
     "name": "stderr",
     "output_type": "stream",
     "text": [
      "Clipping input data to the valid range for imshow with RGB data ([0..1] for floats or [0..255] for integers).\n"
     ]
    },
    {
     "name": "stdout",
     "output_type": "stream",
     "text": [
      "/home/diego/Proyecto Vivero/train2/salida102.tif\n",
      "/home/diego/Proyecto Vivero/train2/salida103.tif\n",
      "/home/diego/Proyecto Vivero/train2/salida104.tif\n",
      "/home/diego/Proyecto Vivero/train2/salida105.tif\n",
      "/home/diego/Proyecto Vivero/train2/salida106.tif\n",
      "/home/diego/Proyecto Vivero/train2/salida107.tif\n",
      "/home/diego/Proyecto Vivero/train2/salida108.tif\n",
      "/home/diego/Proyecto Vivero/train2/salida109.tif\n",
      "/home/diego/Proyecto Vivero/train2/salida110.tif\n",
      "/home/diego/Proyecto Vivero/train2/salida111.tif\n",
      "/home/diego/Proyecto Vivero/train2/salida112.tif\n",
      "/home/diego/Proyecto Vivero/train2/salida113.tif\n",
      "/home/diego/Proyecto Vivero/train2/salida114.tif\n",
      "/home/diego/Proyecto Vivero/train2/salida115.tif\n",
      "/home/diego/Proyecto Vivero/train2/salida116.tif\n",
      "/home/diego/Proyecto Vivero/train2/salida117.tif\n",
      "/home/diego/Proyecto Vivero/train2/salida118.tif\n",
      "/home/diego/Proyecto Vivero/train2/salida119.tif\n",
      "/home/diego/Proyecto Vivero/train2/salida120.tif\n",
      "/home/diego/Proyecto Vivero/train2/salida121.tif\n",
      "/home/diego/Proyecto Vivero/train2/salida122.tif\n",
      "/home/diego/Proyecto Vivero/train2/salida123.tif\n",
      "/home/diego/Proyecto Vivero/train2/salida124.tif\n",
      "/home/diego/Proyecto Vivero/train2/salida125.tif\n",
      "/home/diego/Proyecto Vivero/train2/salida126.tif\n",
      "/home/diego/Proyecto Vivero/train2/salida127.tif\n",
      "/home/diego/Proyecto Vivero/train2/salida128.tif\n",
      "/home/diego/Proyecto Vivero/train2/salida129.tif\n",
      "/home/diego/Proyecto Vivero/train2/salida130.tif\n",
      "/home/diego/Proyecto Vivero/train2/salida131.tif\n",
      "/home/diego/Proyecto Vivero/train2/salida132.tif\n",
      "/home/diego/Proyecto Vivero/train2/salida133.tif\n",
      "/home/diego/Proyecto Vivero/train2/salida134.tif\n",
      "/home/diego/Proyecto Vivero/train2/salida135.tif\n",
      "/home/diego/Proyecto Vivero/train2/salida136.tif\n",
      "/home/diego/Proyecto Vivero/train2/salida137.tif\n",
      "/home/diego/Proyecto Vivero/train2/salida138.tif\n",
      "/home/diego/Proyecto Vivero/train2/salida139.tif\n",
      "/home/diego/Proyecto Vivero/train2/salida140.tif\n",
      "/home/diego/Proyecto Vivero/train2/salida141.tif\n",
      "/home/diego/Proyecto Vivero/train2/salida142.tif\n",
      "/home/diego/Proyecto Vivero/train2/salida143.tif\n",
      "/home/diego/Proyecto Vivero/train2/salida144.tif\n",
      "/home/diego/Proyecto Vivero/train2/salida145.tif\n",
      "/home/diego/Proyecto Vivero/train2/salida146.tif\n",
      "/home/diego/Proyecto Vivero/train2/salida147.tif\n",
      "/home/diego/Proyecto Vivero/train2/salida148.tif\n",
      "/home/diego/Proyecto Vivero/train2/salida149.tif\n",
      "/home/diego/Proyecto Vivero/train2/salida150.tif\n",
      "/home/diego/Proyecto Vivero/train2/salida151.tif\n",
      "/home/diego/Proyecto Vivero/train2/salida152.tif\n",
      "/home/diego/Proyecto Vivero/train2/salida153.tif\n",
      "/home/diego/Proyecto Vivero/train2/salida154.tif\n",
      "/home/diego/Proyecto Vivero/train2/salida155.tif\n",
      "/home/diego/Proyecto Vivero/train2/salida156.tif\n",
      "/home/diego/Proyecto Vivero/train2/salida157.tif\n",
      "/home/diego/Proyecto Vivero/train2/salida158.tif\n",
      "/home/diego/Proyecto Vivero/train2/salida159.tif\n",
      "/home/diego/Proyecto Vivero/train2/salida160.tif\n",
      "/home/diego/Proyecto Vivero/train2/salida161.tif\n",
      "/home/diego/Proyecto Vivero/train2/salida162.tif\n",
      "/home/diego/Proyecto Vivero/train2/salida163.tif\n",
      "/home/diego/Proyecto Vivero/train2/salida164.tif\n",
      "/home/diego/Proyecto Vivero/train2/salida165.tif\n",
      "/home/diego/Proyecto Vivero/train2/salida166.tif\n",
      "/home/diego/Proyecto Vivero/train2/salida167.tif\n"
     ]
    },
    {
     "name": "stderr",
     "output_type": "stream",
     "text": [
      "Clipping input data to the valid range for imshow with RGB data ([0..1] for floats or [0..255] for integers).\n",
      "Clipping input data to the valid range for imshow with RGB data ([0..1] for floats or [0..255] for integers).\n"
     ]
    },
    {
     "name": "stdout",
     "output_type": "stream",
     "text": [
      "False    40122\n",
      "dtype: int64\n",
      "False    40122\n",
      "dtype: int64\n"
     ]
    },
    {
     "name": "stderr",
     "output_type": "stream",
     "text": [
      "Clipping input data to the valid range for imshow with RGB data ([0..1] for floats or [0..255] for integers).\n"
     ]
    },
    {
     "name": "stdout",
     "output_type": "stream",
     "text": [
      "False    40122\n",
      "dtype: int64\n"
     ]
    },
    {
     "name": "stderr",
     "output_type": "stream",
     "text": [
      "Clipping input data to the valid range for imshow with RGB data ([0..1] for floats or [0..255] for integers).\n",
      "Clipping input data to the valid range for imshow with RGB data ([0..1] for floats or [0..255] for integers).\n"
     ]
    },
    {
     "name": "stdout",
     "output_type": "stream",
     "text": [
      "False    40122\n",
      "dtype: int64\n",
      "False    40122\n",
      "dtype: int64\n"
     ]
    },
    {
     "name": "stderr",
     "output_type": "stream",
     "text": [
      "Clipping input data to the valid range for imshow with RGB data ([0..1] for floats or [0..255] for integers).\n",
      "Clipping input data to the valid range for imshow with RGB data ([0..1] for floats or [0..255] for integers).\n"
     ]
    },
    {
     "name": "stdout",
     "output_type": "stream",
     "text": [
      "False    40122\n",
      "dtype: int64\n",
      "False    40122\n",
      "dtype: int64\n"
     ]
    },
    {
     "name": "stderr",
     "output_type": "stream",
     "text": [
      "Clipping input data to the valid range for imshow with RGB data ([0..1] for floats or [0..255] for integers).\n"
     ]
    },
    {
     "name": "stdout",
     "output_type": "stream",
     "text": [
      "False    40122\n",
      "dtype: int64\n",
      "False    40122\n",
      "dtype: int64\n"
     ]
    },
    {
     "name": "stderr",
     "output_type": "stream",
     "text": [
      "Clipping input data to the valid range for imshow with RGB data ([0..1] for floats or [0..255] for integers).\n",
      "Clipping input data to the valid range for imshow with RGB data ([0..1] for floats or [0..255] for integers).\n"
     ]
    },
    {
     "name": "stdout",
     "output_type": "stream",
     "text": [
      "False    40122\n",
      "dtype: int64\n",
      "False    40122\n",
      "dtype: int64\n"
     ]
    },
    {
     "name": "stderr",
     "output_type": "stream",
     "text": [
      "Clipping input data to the valid range for imshow with RGB data ([0..1] for floats or [0..255] for integers).\n",
      "Clipping input data to the valid range for imshow with RGB data ([0..1] for floats or [0..255] for integers).\n"
     ]
    },
    {
     "name": "stdout",
     "output_type": "stream",
     "text": [
      "False    40122\n",
      "dtype: int64\n",
      "False    40122\n",
      "dtype: int64\n"
     ]
    },
    {
     "name": "stderr",
     "output_type": "stream",
     "text": [
      "Clipping input data to the valid range for imshow with RGB data ([0..1] for floats or [0..255] for integers).\n",
      "Clipping input data to the valid range for imshow with RGB data ([0..1] for floats or [0..255] for integers).\n"
     ]
    },
    {
     "name": "stdout",
     "output_type": "stream",
     "text": [
      "False    40122\n",
      "dtype: int64\n"
     ]
    },
    {
     "name": "stderr",
     "output_type": "stream",
     "text": [
      "Clipping input data to the valid range for imshow with RGB data ([0..1] for floats or [0..255] for integers).\n",
      "Clipping input data to the valid range for imshow with RGB data ([0..1] for floats or [0..255] for integers).\n"
     ]
    },
    {
     "name": "stdout",
     "output_type": "stream",
     "text": [
      "False    40122\n",
      "dtype: int64\n",
      "False    40122\n",
      "dtype: int64\n"
     ]
    },
    {
     "name": "stderr",
     "output_type": "stream",
     "text": [
      "Clipping input data to the valid range for imshow with RGB data ([0..1] for floats or [0..255] for integers).\n"
     ]
    },
    {
     "name": "stdout",
     "output_type": "stream",
     "text": [
      "False    40122\n",
      "dtype: int64\n",
      "False    40122\n",
      "dtype: int64\n"
     ]
    },
    {
     "name": "stderr",
     "output_type": "stream",
     "text": [
      "Clipping input data to the valid range for imshow with RGB data ([0..1] for floats or [0..255] for integers).\n",
      "Clipping input data to the valid range for imshow with RGB data ([0..1] for floats or [0..255] for integers).\n",
      "Clipping input data to the valid range for imshow with RGB data ([0..1] for floats or [0..255] for integers).\n"
     ]
    },
    {
     "name": "stdout",
     "output_type": "stream",
     "text": [
      "False    40122\n",
      "dtype: int64\n",
      "False    40122\n",
      "dtype: int64\n"
     ]
    },
    {
     "name": "stderr",
     "output_type": "stream",
     "text": [
      "Clipping input data to the valid range for imshow with RGB data ([0..1] for floats or [0..255] for integers).\n",
      "Clipping input data to the valid range for imshow with RGB data ([0..1] for floats or [0..255] for integers).\n"
     ]
    },
    {
     "name": "stdout",
     "output_type": "stream",
     "text": [
      "False    40122\n",
      "dtype: int64\n",
      "False    40122\n",
      "dtype: int64\n"
     ]
    },
    {
     "name": "stderr",
     "output_type": "stream",
     "text": [
      "Clipping input data to the valid range for imshow with RGB data ([0..1] for floats or [0..255] for integers).\n",
      "Clipping input data to the valid range for imshow with RGB data ([0..1] for floats or [0..255] for integers).\n"
     ]
    },
    {
     "name": "stdout",
     "output_type": "stream",
     "text": [
      "False    40122\n",
      "dtype: int64\n",
      "False    40122\n",
      "dtype: int64\n"
     ]
    },
    {
     "name": "stderr",
     "output_type": "stream",
     "text": [
      "Clipping input data to the valid range for imshow with RGB data ([0..1] for floats or [0..255] for integers).\n",
      "Clipping input data to the valid range for imshow with RGB data ([0..1] for floats or [0..255] for integers).\n"
     ]
    },
    {
     "name": "stdout",
     "output_type": "stream",
     "text": [
      "False    40122\n",
      "dtype: int64\n",
      "False    40122\n",
      "dtype: int64\n"
     ]
    },
    {
     "name": "stderr",
     "output_type": "stream",
     "text": [
      "Clipping input data to the valid range for imshow with RGB data ([0..1] for floats or [0..255] for integers).\n"
     ]
    },
    {
     "name": "stdout",
     "output_type": "stream",
     "text": [
      "False    40122\n",
      "dtype: int64\n",
      "False    40122\n",
      "dtype: int64\n"
     ]
    },
    {
     "name": "stderr",
     "output_type": "stream",
     "text": [
      "Clipping input data to the valid range for imshow with RGB data ([0..1] for floats or [0..255] for integers).\n",
      "Clipping input data to the valid range for imshow with RGB data ([0..1] for floats or [0..255] for integers).\n"
     ]
    },
    {
     "name": "stdout",
     "output_type": "stream",
     "text": [
      "False    40122\n",
      "dtype: int64\n",
      "False    40122\n",
      "dtype: int64\n"
     ]
    },
    {
     "name": "stderr",
     "output_type": "stream",
     "text": [
      "Clipping input data to the valid range for imshow with RGB data ([0..1] for floats or [0..255] for integers).\n"
     ]
    },
    {
     "name": "stdout",
     "output_type": "stream",
     "text": [
      "False    40122\n",
      "dtype: int64\n"
     ]
    },
    {
     "name": "stderr",
     "output_type": "stream",
     "text": [
      "Clipping input data to the valid range for imshow with RGB data ([0..1] for floats or [0..255] for integers).\n"
     ]
    },
    {
     "name": "stdout",
     "output_type": "stream",
     "text": [
      "False    40122\n",
      "dtype: int64\n"
     ]
    },
    {
     "name": "stderr",
     "output_type": "stream",
     "text": [
      "Clipping input data to the valid range for imshow with RGB data ([0..1] for floats or [0..255] for integers).\n"
     ]
    },
    {
     "name": "stdout",
     "output_type": "stream",
     "text": [
      "False    40122\n",
      "dtype: int64\n"
     ]
    },
    {
     "name": "stderr",
     "output_type": "stream",
     "text": [
      "Clipping input data to the valid range for imshow with RGB data ([0..1] for floats or [0..255] for integers).\n"
     ]
    },
    {
     "name": "stdout",
     "output_type": "stream",
     "text": [
      "False    40122\n",
      "dtype: int64\n"
     ]
    },
    {
     "name": "stderr",
     "output_type": "stream",
     "text": [
      "Clipping input data to the valid range for imshow with RGB data ([0..1] for floats or [0..255] for integers).\n"
     ]
    },
    {
     "name": "stdout",
     "output_type": "stream",
     "text": [
      "False    40122\n",
      "dtype: int64\n"
     ]
    },
    {
     "name": "stderr",
     "output_type": "stream",
     "text": [
      "Clipping input data to the valid range for imshow with RGB data ([0..1] for floats or [0..255] for integers).\n"
     ]
    },
    {
     "name": "stdout",
     "output_type": "stream",
     "text": [
      "False    40122\n",
      "dtype: int64\n"
     ]
    },
    {
     "name": "stderr",
     "output_type": "stream",
     "text": [
      "Clipping input data to the valid range for imshow with RGB data ([0..1] for floats or [0..255] for integers).\n"
     ]
    },
    {
     "name": "stdout",
     "output_type": "stream",
     "text": [
      "False    40122\n",
      "dtype: int64\n",
      "False    40122\n",
      "dtype: int64\n"
     ]
    },
    {
     "name": "stderr",
     "output_type": "stream",
     "text": [
      "Clipping input data to the valid range for imshow with RGB data ([0..1] for floats or [0..255] for integers).\n",
      "Clipping input data to the valid range for imshow with RGB data ([0..1] for floats or [0..255] for integers).\n"
     ]
    },
    {
     "name": "stdout",
     "output_type": "stream",
     "text": [
      "False    40122\n",
      "dtype: int64\n"
     ]
    },
    {
     "name": "stderr",
     "output_type": "stream",
     "text": [
      "Clipping input data to the valid range for imshow with RGB data ([0..1] for floats or [0..255] for integers).\n"
     ]
    },
    {
     "name": "stdout",
     "output_type": "stream",
     "text": [
      "False    40122\n",
      "dtype: int64\n"
     ]
    },
    {
     "name": "stderr",
     "output_type": "stream",
     "text": [
      "Clipping input data to the valid range for imshow with RGB data ([0..1] for floats or [0..255] for integers).\n",
      "Clipping input data to the valid range for imshow with RGB data ([0..1] for floats or [0..255] for integers).\n"
     ]
    },
    {
     "name": "stdout",
     "output_type": "stream",
     "text": [
      "False    40122\n",
      "dtype: int64\n",
      "False    40122\n",
      "dtype: int64\n"
     ]
    },
    {
     "name": "stderr",
     "output_type": "stream",
     "text": [
      "Clipping input data to the valid range for imshow with RGB data ([0..1] for floats or [0..255] for integers).\n"
     ]
    },
    {
     "name": "stdout",
     "output_type": "stream",
     "text": [
      "False    40122\n",
      "dtype: int64\n",
      "False    40122\n",
      "dtype: int64\n"
     ]
    },
    {
     "name": "stderr",
     "output_type": "stream",
     "text": [
      "Clipping input data to the valid range for imshow with RGB data ([0..1] for floats or [0..255] for integers).\n"
     ]
    },
    {
     "name": "stdout",
     "output_type": "stream",
     "text": [
      "/home/diego/Proyecto Vivero/train2/salida351.tif\n",
      "/home/diego/Proyecto Vivero/train2/salida352.tif\n",
      "/home/diego/Proyecto Vivero/train2/salida353.tif\n",
      "/home/diego/Proyecto Vivero/train2/salida354.tif\n",
      "/home/diego/Proyecto Vivero/train2/salida355.tif\n",
      "/home/diego/Proyecto Vivero/train2/salida356.tif\n",
      "/home/diego/Proyecto Vivero/train2/salida357.tif\n",
      "/home/diego/Proyecto Vivero/train2/salida358.tif\n",
      "/home/diego/Proyecto Vivero/train2/salida359.tif\n",
      "/home/diego/Proyecto Vivero/train2/salida360.tif\n",
      "/home/diego/Proyecto Vivero/train2/salida361.tif\n",
      "/home/diego/Proyecto Vivero/train2/salida362.tif\n",
      "/home/diego/Proyecto Vivero/train2/salida363.tif\n",
      "/home/diego/Proyecto Vivero/train2/salida364.tif\n",
      "/home/diego/Proyecto Vivero/train2/salida365.tif\n",
      "/home/diego/Proyecto Vivero/train2/salida366.tif\n",
      "/home/diego/Proyecto Vivero/train2/salida367.tif\n",
      "/home/diego/Proyecto Vivero/train2/salida368.tif\n",
      "/home/diego/Proyecto Vivero/train2/salida369.tif\n",
      "/home/diego/Proyecto Vivero/train2/salida370.tif\n",
      "/home/diego/Proyecto Vivero/train2/salida371.tif\n",
      "/home/diego/Proyecto Vivero/train2/salida372.tif\n",
      "/home/diego/Proyecto Vivero/train2/salida373.tif\n",
      "/home/diego/Proyecto Vivero/train2/salida374.tif\n",
      "/home/diego/Proyecto Vivero/train2/salida375.tif\n",
      "/home/diego/Proyecto Vivero/train2/salida376.tif\n",
      "/home/diego/Proyecto Vivero/train2/salida377.tif\n",
      "/home/diego/Proyecto Vivero/train2/salida378.tif\n",
      "/home/diego/Proyecto Vivero/train2/salida379.tif\n",
      "/home/diego/Proyecto Vivero/train2/salida380.tif\n",
      "/home/diego/Proyecto Vivero/train2/salida381.tif\n",
      "/home/diego/Proyecto Vivero/train2/salida382.tif\n",
      "/home/diego/Proyecto Vivero/train2/salida383.tif\n",
      "/home/diego/Proyecto Vivero/train2/salida384.tif\n",
      "/home/diego/Proyecto Vivero/train2/salida385.tif\n",
      "/home/diego/Proyecto Vivero/train2/salida386.tif\n",
      "/home/diego/Proyecto Vivero/train2/salida387.tif\n",
      "/home/diego/Proyecto Vivero/train2/salida388.tif\n",
      "/home/diego/Proyecto Vivero/train2/salida389.tif\n",
      "/home/diego/Proyecto Vivero/train2/salida390.tif\n",
      "/home/diego/Proyecto Vivero/train2/salida391.tif\n",
      "/home/diego/Proyecto Vivero/train2/salida392.tif\n",
      "/home/diego/Proyecto Vivero/train2/salida393.tif\n",
      "/home/diego/Proyecto Vivero/train2/salida394.tif\n",
      "/home/diego/Proyecto Vivero/train2/salida395.tif\n",
      "/home/diego/Proyecto Vivero/train2/salida396.tif\n",
      "/home/diego/Proyecto Vivero/train2/salida397.tif\n",
      "/home/diego/Proyecto Vivero/train2/salida398.tif\n",
      "/home/diego/Proyecto Vivero/train2/salida399.tif\n",
      "/home/diego/Proyecto Vivero/train2/salida400.tif\n",
      "/home/diego/Proyecto Vivero/train2/salida401.tif\n",
      "/home/diego/Proyecto Vivero/train2/salida402.tif\n",
      "/home/diego/Proyecto Vivero/train2/salida403.tif\n",
      "/home/diego/Proyecto Vivero/train2/salida404.tif\n",
      "/home/diego/Proyecto Vivero/train2/salida405.tif\n",
      "/home/diego/Proyecto Vivero/train2/salida406.tif\n",
      "/home/diego/Proyecto Vivero/train2/salida407.tif\n",
      "/home/diego/Proyecto Vivero/train2/salida408.tif\n",
      "/home/diego/Proyecto Vivero/train2/salida409.tif\n",
      "/home/diego/Proyecto Vivero/train2/salida410.tif\n",
      "/home/diego/Proyecto Vivero/train2/salida411.tif\n",
      "/home/diego/Proyecto Vivero/train2/salida412.tif\n",
      "/home/diego/Proyecto Vivero/train2/salida413.tif\n",
      "/home/diego/Proyecto Vivero/train2/salida414.tif\n",
      "/home/diego/Proyecto Vivero/train2/salida415.tif\n",
      "/home/diego/Proyecto Vivero/train2/salida416.tif\n"
     ]
    },
    {
     "name": "stderr",
     "output_type": "stream",
     "text": [
      "Clipping input data to the valid range for imshow with RGB data ([0..1] for floats or [0..255] for integers).\n",
      "Clipping input data to the valid range for imshow with RGB data ([0..1] for floats or [0..255] for integers).\n"
     ]
    },
    {
     "name": "stdout",
     "output_type": "stream",
     "text": [
      "False    40122\n",
      "dtype: int64\n",
      "False    40122\n",
      "dtype: int64\n"
     ]
    },
    {
     "name": "stderr",
     "output_type": "stream",
     "text": [
      "Clipping input data to the valid range for imshow with RGB data ([0..1] for floats or [0..255] for integers).\n",
      "Clipping input data to the valid range for imshow with RGB data ([0..1] for floats or [0..255] for integers).\n"
     ]
    },
    {
     "name": "stdout",
     "output_type": "stream",
     "text": [
      "False    40122\n",
      "dtype: int64\n",
      "False    40122\n",
      "dtype: int64\n"
     ]
    },
    {
     "name": "stderr",
     "output_type": "stream",
     "text": [
      "Clipping input data to the valid range for imshow with RGB data ([0..1] for floats or [0..255] for integers).\n",
      "Clipping input data to the valid range for imshow with RGB data ([0..1] for floats or [0..255] for integers).\n"
     ]
    },
    {
     "name": "stdout",
     "output_type": "stream",
     "text": [
      "False    40122\n",
      "dtype: int64\n",
      "False    40122\n",
      "dtype: int64\n"
     ]
    },
    {
     "name": "stderr",
     "output_type": "stream",
     "text": [
      "Clipping input data to the valid range for imshow with RGB data ([0..1] for floats or [0..255] for integers).\n",
      "Clipping input data to the valid range for imshow with RGB data ([0..1] for floats or [0..255] for integers).\n"
     ]
    },
    {
     "name": "stdout",
     "output_type": "stream",
     "text": [
      "False    40122\n",
      "dtype: int64\n",
      "False    40122\n",
      "dtype: int64\n"
     ]
    },
    {
     "ename": "KeyboardInterrupt",
     "evalue": "",
     "output_type": "error",
     "traceback": [
      "\u001b[0;31m---------------------------------------------------------------------------\u001b[0m",
      "\u001b[0;31mKeyboardInterrupt\u001b[0m                         Traceback (most recent call last)",
      "\u001b[0;32m<ipython-input-14-744434a848d2>\u001b[0m in \u001b[0;36m<module>\u001b[0;34m\u001b[0m\n\u001b[1;32m     27\u001b[0m \u001b[0;34m\u001b[0m\u001b[0m\n\u001b[1;32m     28\u001b[0m     \u001b[0;31m#interseccion ptos\u001b[0m\u001b[0;34m\u001b[0m\u001b[0;34m\u001b[0m\u001b[0;34m\u001b[0m\u001b[0m\n\u001b[0;32m---> 29\u001b[0;31m         \u001b[0mcantidad\u001b[0m\u001b[0;34m=\u001b[0m\u001b[0mpuntos\u001b[0m\u001b[0;34m[\u001b[0m\u001b[0;34m\"geometry\"\u001b[0m\u001b[0;34m]\u001b[0m\u001b[0;34m.\u001b[0m\u001b[0mintersects\u001b[0m\u001b[0;34m(\u001b[0m\u001b[0mbbox\u001b[0m\u001b[0;34m)\u001b[0m\u001b[0;34m.\u001b[0m\u001b[0mvalue_counts\u001b[0m\u001b[0;34m(\u001b[0m\u001b[0;34m)\u001b[0m\u001b[0;34m\u001b[0m\u001b[0;34m\u001b[0m\u001b[0m\n\u001b[0m\u001b[1;32m     30\u001b[0m         \u001b[0mprint\u001b[0m\u001b[0;34m(\u001b[0m\u001b[0mcantidad\u001b[0m\u001b[0;34m)\u001b[0m\u001b[0;34m\u001b[0m\u001b[0;34m\u001b[0m\u001b[0m\n\u001b[1;32m     31\u001b[0m         \u001b[0;32mif\u001b[0m \u001b[0;34m(\u001b[0m\u001b[0;32mTrue\u001b[0m \u001b[0;32min\u001b[0m \u001b[0mcantidad\u001b[0m\u001b[0;34m.\u001b[0m\u001b[0mindex\u001b[0m\u001b[0;34m)\u001b[0m\u001b[0;34m:\u001b[0m\u001b[0;34m\u001b[0m\u001b[0;34m\u001b[0m\u001b[0m\n",
      "\u001b[0;32m~/anaconda3/envs/plantas/lib/python3.6/site-packages/pandas/core/base.py\u001b[0m in \u001b[0;36mvalue_counts\u001b[0;34m(self, normalize, sort, ascending, bins, dropna)\u001b[0m\n\u001b[1;32m   1301\u001b[0m         \u001b[0;32mfrom\u001b[0m \u001b[0mpandas\u001b[0m\u001b[0;34m.\u001b[0m\u001b[0mcore\u001b[0m\u001b[0;34m.\u001b[0m\u001b[0malgorithms\u001b[0m \u001b[0;32mimport\u001b[0m \u001b[0mvalue_counts\u001b[0m\u001b[0;34m\u001b[0m\u001b[0;34m\u001b[0m\u001b[0m\n\u001b[1;32m   1302\u001b[0m         result = value_counts(self, sort=sort, ascending=ascending,\n\u001b[0;32m-> 1303\u001b[0;31m                               normalize=normalize, bins=bins, dropna=dropna)\n\u001b[0m\u001b[1;32m   1304\u001b[0m         \u001b[0;32mreturn\u001b[0m \u001b[0mresult\u001b[0m\u001b[0;34m\u001b[0m\u001b[0;34m\u001b[0m\u001b[0m\n\u001b[1;32m   1305\u001b[0m \u001b[0;34m\u001b[0m\u001b[0m\n",
      "\u001b[0;32m~/anaconda3/envs/plantas/lib/python3.6/site-packages/pandas/core/algorithms.py\u001b[0m in \u001b[0;36mvalue_counts\u001b[0;34m(values, sort, ascending, normalize, bins, dropna)\u001b[0m\n\u001b[1;32m    697\u001b[0m \u001b[0;34m\u001b[0m\u001b[0m\n\u001b[1;32m    698\u001b[0m         \u001b[0;32melse\u001b[0m\u001b[0;34m:\u001b[0m\u001b[0;34m\u001b[0m\u001b[0;34m\u001b[0m\u001b[0m\n\u001b[0;32m--> 699\u001b[0;31m             \u001b[0mkeys\u001b[0m\u001b[0;34m,\u001b[0m \u001b[0mcounts\u001b[0m \u001b[0;34m=\u001b[0m \u001b[0m_value_counts_arraylike\u001b[0m\u001b[0;34m(\u001b[0m\u001b[0mvalues\u001b[0m\u001b[0;34m,\u001b[0m \u001b[0mdropna\u001b[0m\u001b[0;34m)\u001b[0m\u001b[0;34m\u001b[0m\u001b[0;34m\u001b[0m\u001b[0m\n\u001b[0m\u001b[1;32m    700\u001b[0m \u001b[0;34m\u001b[0m\u001b[0m\n\u001b[1;32m    701\u001b[0m             \u001b[0;32mif\u001b[0m \u001b[0;32mnot\u001b[0m \u001b[0misinstance\u001b[0m\u001b[0;34m(\u001b[0m\u001b[0mkeys\u001b[0m\u001b[0;34m,\u001b[0m \u001b[0mIndex\u001b[0m\u001b[0;34m)\u001b[0m\u001b[0;34m:\u001b[0m\u001b[0;34m\u001b[0m\u001b[0;34m\u001b[0m\u001b[0m\n",
      "\u001b[0;32m~/anaconda3/envs/plantas/lib/python3.6/site-packages/pandas/core/algorithms.py\u001b[0m in \u001b[0;36m_value_counts_arraylike\u001b[0;34m(values, dropna)\u001b[0m\n\u001b[1;32m    742\u001b[0m         \u001b[0;31m# TODO: handle uint8\u001b[0m\u001b[0;34m\u001b[0m\u001b[0;34m\u001b[0m\u001b[0;34m\u001b[0m\u001b[0m\n\u001b[1;32m    743\u001b[0m         \u001b[0mf\u001b[0m \u001b[0;34m=\u001b[0m \u001b[0mgetattr\u001b[0m\u001b[0;34m(\u001b[0m\u001b[0mhtable\u001b[0m\u001b[0;34m,\u001b[0m \u001b[0;34m\"value_count_{dtype}\"\u001b[0m\u001b[0;34m.\u001b[0m\u001b[0mformat\u001b[0m\u001b[0;34m(\u001b[0m\u001b[0mdtype\u001b[0m\u001b[0;34m=\u001b[0m\u001b[0mndtype\u001b[0m\u001b[0;34m)\u001b[0m\u001b[0;34m)\u001b[0m\u001b[0;34m\u001b[0m\u001b[0;34m\u001b[0m\u001b[0m\n\u001b[0;32m--> 744\u001b[0;31m         \u001b[0mkeys\u001b[0m\u001b[0;34m,\u001b[0m \u001b[0mcounts\u001b[0m \u001b[0;34m=\u001b[0m \u001b[0mf\u001b[0m\u001b[0;34m(\u001b[0m\u001b[0mvalues\u001b[0m\u001b[0;34m,\u001b[0m \u001b[0mdropna\u001b[0m\u001b[0;34m)\u001b[0m\u001b[0;34m\u001b[0m\u001b[0;34m\u001b[0m\u001b[0m\n\u001b[0m\u001b[1;32m    745\u001b[0m \u001b[0;34m\u001b[0m\u001b[0m\n\u001b[1;32m    746\u001b[0m         \u001b[0mmask\u001b[0m \u001b[0;34m=\u001b[0m \u001b[0misna\u001b[0m\u001b[0;34m(\u001b[0m\u001b[0mvalues\u001b[0m\u001b[0;34m)\u001b[0m\u001b[0;34m\u001b[0m\u001b[0;34m\u001b[0m\u001b[0m\n",
      "\u001b[0;32mpandas/_libs/hashtable_func_helper.pxi\u001b[0m in \u001b[0;36mpandas._libs.hashtable.value_count_uint64\u001b[0;34m()\u001b[0m\n",
      "\u001b[0;32mpandas/_libs/hashtable_func_helper.pxi\u001b[0m in \u001b[0;36mpandas._libs.hashtable.value_count_uint64\u001b[0;34m()\u001b[0m\n",
      "\u001b[0;32m~/anaconda3/envs/plantas/lib/python3.6/site-packages/numpy/core/numeric.py\u001b[0m in \u001b[0;36masarray\u001b[0;34m(a, dtype, order)\u001b[0m\n\u001b[1;32m    467\u001b[0m \u001b[0;34m\u001b[0m\u001b[0m\n\u001b[1;32m    468\u001b[0m \u001b[0;34m\u001b[0m\u001b[0m\n\u001b[0;32m--> 469\u001b[0;31m \u001b[0;34m@\u001b[0m\u001b[0mset_module\u001b[0m\u001b[0;34m(\u001b[0m\u001b[0;34m'numpy'\u001b[0m\u001b[0;34m)\u001b[0m\u001b[0;34m\u001b[0m\u001b[0;34m\u001b[0m\u001b[0m\n\u001b[0m\u001b[1;32m    470\u001b[0m \u001b[0;32mdef\u001b[0m \u001b[0masarray\u001b[0m\u001b[0;34m(\u001b[0m\u001b[0ma\u001b[0m\u001b[0;34m,\u001b[0m \u001b[0mdtype\u001b[0m\u001b[0;34m=\u001b[0m\u001b[0;32mNone\u001b[0m\u001b[0;34m,\u001b[0m \u001b[0morder\u001b[0m\u001b[0;34m=\u001b[0m\u001b[0;32mNone\u001b[0m\u001b[0;34m)\u001b[0m\u001b[0;34m:\u001b[0m\u001b[0;34m\u001b[0m\u001b[0;34m\u001b[0m\u001b[0m\n\u001b[1;32m    471\u001b[0m     \"\"\"Convert the input to an array.\n",
      "\u001b[0;31mKeyboardInterrupt\u001b[0m: "
     ]
    }
   ],
   "source": [
    "contador = 0\n",
    "while (1):\n",
    "        # finalizar si se a recorrido toda la imagen\n",
    "    if(offsetY >= raster.height and offsetX >= raster.width):\n",
    "        break\n",
    "     #cuando llegue al borde en el eje x, debo bajar(sumar en eje y) y debo volver a empezar setear offsetX en 0 y widthX en 100\n",
    "    elif(offsetX >= raster.width):\n",
    "        offsetY = offsetY + step\n",
    "        offsetX = 0\n",
    "   \n",
    "    #entregamos los pixeles para obtener las coordenadas\n",
    "    t = raster.xy(offsetX, offsetY)\n",
    "    l = raster.xy(offsetX + width , offsetY)\n",
    "    r = raster.xy(offsetX, offsetY + height)\n",
    "    b = raster.xy(offsetX + width , offsetY + height)  \n",
    "    bbox = box(l[0], b[1], r[0], t[1])\n",
    "        \n",
    "    try:\n",
    "        #transformacion de la imagen\n",
    "        out_img, out_transform = mask(raster, shapes=[bbox], crop=True)\n",
    "        valores = np.unique(out_img)\n",
    "        # si solo se tiene valores NODATA en la imagen, la descartamos\n",
    "        if np.array_equal(valores,[65535]):\n",
    "            offsetX = offsetX + step\n",
    "            contador = contador + 1\n",
    "            continue\n",
    "            \n",
    "        matplotlib.image.imsave('{}/salida{}.png'.format(url_salida,contador), out_img.T)\n",
    "\n",
    "    #interseccion ptos\n",
    "        cantidad=puntos[\"geometry\"].intersects(bbox).value_counts()\n",
    "        print(cantidad)\n",
    "        if (True in cantidad.index):\n",
    "            numero = cantidad[True]\n",
    "        else:\n",
    "            numero = 0\n",
    "        cuentas.loc[contador] = [\"salida\"+str(contador)+\".png\",numero]\n",
    "        if(contador%1000 == 0):\n",
    "            print(\"salida\"+str(contador)+\".png\")\n",
    "\n",
    "        \n",
    "    except ValueError:\n",
    "        print(url_salida+\"/salida\"+str(contador)+\".pngtif\")\n",
    "#         print(coords)\n",
    "    contador = contador + 1\n",
    "    offsetX = offsetX + step \n",
    "   "
   ]
  },
  {
   "cell_type": "code",
   "execution_count": 51,
   "metadata": {
    "scrolled": true
   },
   "outputs": [],
   "source": [
    "cuentas.to_csv(url_salida+\"/cuentas.csv\")"
   ]
  }
 ],
 "metadata": {
  "kernelspec": {
   "display_name": "Python 3",
   "language": "python",
   "name": "python3"
  },
  "language_info": {
   "codemirror_mode": {
    "name": "ipython",
    "version": 3
   },
   "file_extension": ".py",
   "mimetype": "text/x-python",
   "name": "python",
   "nbconvert_exporter": "python",
   "pygments_lexer": "ipython3",
   "version": "3.6.8"
  }
 },
 "nbformat": 4,
 "nbformat_minor": 2
}
