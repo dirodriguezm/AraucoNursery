{
 "cells": [
  {
   "cell_type": "code",
   "execution_count": 1,
   "metadata": {},
   "outputs": [],
   "source": [
    "%matplotlib inline\n",
    "# %matplotlib notebook\n",
    "import rasterio\n",
    "from shapely.geometry import box\n",
    "import geopandas as gpd\n",
    "from rasterio.mask import mask\n",
    "import pandas as pd\n",
    "import numpy as np\n",
    "import matplotlib"
   ]
  },
  {
   "cell_type": "code",
   "execution_count": 2,
   "metadata": {},
   "outputs": [],
   "source": [
    "# url_imagen = '/home/diego/Proyecto Vivero/data/01_VIVERO/01_imagenes/imagen_mesones_rgb.tif'\n",
    "# shp = '/home/diego/Proyecto Vivero/data/01_VIVERO/02_puntos_plantas/plantas_mesones_2.shp'\n",
    "# url_salida = \"/home/diego/Proyecto Vivero/train2\"\n",
    "url_imagen = 'D:/Memoria/Codigo/AraucoNursery/PROYECTOS/VIVERO/imagenes/imagen_mesones_rgb.tif'\n",
    "shp = 'D:/Memoria/Codigo/AraucoNursery/PROYECTOS/VIVERO/puntos_plantas/plantas_mesones_2.shp'\n",
    "url_salida = \"D:/Memoria/Codigo/AraucoNursery/train\""
   ]
  },
  {
   "cell_type": "code",
   "execution_count": 3,
   "metadata": {},
   "outputs": [],
   "source": [
    "puntos = gpd.read_file(shp)\n",
    "raster = rasterio.open(url_imagen)"
   ]
  },
  {
   "cell_type": "code",
   "execution_count": 4,
   "metadata": {},
   "outputs": [
    {
     "data": {
      "text/html": [
       "<div>\n",
       "<style scoped>\n",
       "    .dataframe tbody tr th:only-of-type {\n",
       "        vertical-align: middle;\n",
       "    }\n",
       "\n",
       "    .dataframe tbody tr th {\n",
       "        vertical-align: top;\n",
       "    }\n",
       "\n",
       "    .dataframe thead th {\n",
       "        text-align: right;\n",
       "    }\n",
       "</style>\n",
       "<table border=\"1\" class=\"dataframe\">\n",
       "  <thead>\n",
       "    <tr style=\"text-align: right;\">\n",
       "      <th></th>\n",
       "      <th>TemplateID</th>\n",
       "      <th>TemplateNa</th>\n",
       "      <th>geometry</th>\n",
       "    </tr>\n",
       "  </thead>\n",
       "  <tbody>\n",
       "    <tr>\n",
       "      <th>0</th>\n",
       "      <td>0.0</td>\n",
       "      <td>plantas_vivero0</td>\n",
       "      <td>POINT (738088.1365876811 6090382.441922568)</td>\n",
       "    </tr>\n",
       "    <tr>\n",
       "      <th>1</th>\n",
       "      <td>0.0</td>\n",
       "      <td>plantas_vivero0</td>\n",
       "      <td>POINT (738088.1587076746 6090382.430862571)</td>\n",
       "    </tr>\n",
       "    <tr>\n",
       "      <th>2</th>\n",
       "      <td>0.0</td>\n",
       "      <td>plantas_vivero0</td>\n",
       "      <td>POINT (738088.1918876646 6090382.408742578)</td>\n",
       "    </tr>\n",
       "    <tr>\n",
       "      <th>3</th>\n",
       "      <td>0.0</td>\n",
       "      <td>plantas_vivero0</td>\n",
       "      <td>POINT (738088.214007658 6090382.397682581)</td>\n",
       "    </tr>\n",
       "    <tr>\n",
       "      <th>4</th>\n",
       "      <td>0.0</td>\n",
       "      <td>plantas_vivero0</td>\n",
       "      <td>POINT (738088.1918876646 6090382.386622584)</td>\n",
       "    </tr>\n",
       "    <tr>\n",
       "      <th>5</th>\n",
       "      <td>1.0</td>\n",
       "      <td>plantas_vivero1</td>\n",
       "      <td>POINT (738088.1255276845 6090382.375562588)</td>\n",
       "    </tr>\n",
       "    <tr>\n",
       "      <th>6</th>\n",
       "      <td>0.0</td>\n",
       "      <td>plantas_vivero0</td>\n",
       "      <td>POINT (738088.247187648 6090382.375562588)</td>\n",
       "    </tr>\n",
       "    <tr>\n",
       "      <th>7</th>\n",
       "      <td>0.0</td>\n",
       "      <td>plantas_vivero0</td>\n",
       "      <td>POINT (738088.2693076414 6090382.364502591)</td>\n",
       "    </tr>\n",
       "    <tr>\n",
       "      <th>8</th>\n",
       "      <td>0.0</td>\n",
       "      <td>plantas_vivero0</td>\n",
       "      <td>POINT (738088.2914276348 6090382.353442594)</td>\n",
       "    </tr>\n",
       "    <tr>\n",
       "      <th>9</th>\n",
       "      <td>0.0</td>\n",
       "      <td>plantas_vivero0</td>\n",
       "      <td>POINT (738088.1144676878 6090382.342382598)</td>\n",
       "    </tr>\n",
       "    <tr>\n",
       "      <th>10</th>\n",
       "      <td>1.0</td>\n",
       "      <td>plantas_vivero1</td>\n",
       "      <td>POINT (738088.1918876646 6090382.342382598)</td>\n",
       "    </tr>\n",
       "    <tr>\n",
       "      <th>11</th>\n",
       "      <td>0.0</td>\n",
       "      <td>plantas_vivero0</td>\n",
       "      <td>POINT (738088.3246076248 6090382.331322601)</td>\n",
       "    </tr>\n",
       "    <tr>\n",
       "      <th>12</th>\n",
       "      <td>0.0</td>\n",
       "      <td>plantas_vivero0</td>\n",
       "      <td>POINT (738088.214007658 6090382.320262604)</td>\n",
       "    </tr>\n",
       "    <tr>\n",
       "      <th>13</th>\n",
       "      <td>0.0</td>\n",
       "      <td>plantas_vivero0</td>\n",
       "      <td>POINT (738088.3467276181 6090382.320262604)</td>\n",
       "    </tr>\n",
       "    <tr>\n",
       "      <th>14</th>\n",
       "      <td>0.0</td>\n",
       "      <td>plantas_vivero0</td>\n",
       "      <td>POINT (738088.1365876811 6090382.309202608)</td>\n",
       "    </tr>\n",
       "    <tr>\n",
       "      <th>15</th>\n",
       "      <td>2.0</td>\n",
       "      <td>plantas_vivero2</td>\n",
       "      <td>POINT (738088.0481077076 6090382.298142611)</td>\n",
       "    </tr>\n",
       "    <tr>\n",
       "      <th>16</th>\n",
       "      <td>0.0</td>\n",
       "      <td>plantas_vivero0</td>\n",
       "      <td>POINT (738088.3799076083 6090382.298142611)</td>\n",
       "    </tr>\n",
       "    <tr>\n",
       "      <th>17</th>\n",
       "      <td>0.0</td>\n",
       "      <td>plantas_vivero0</td>\n",
       "      <td>POINT (738088.2361276513 6090382.287082614)</td>\n",
       "    </tr>\n",
       "    <tr>\n",
       "      <th>18</th>\n",
       "      <td>1.0</td>\n",
       "      <td>plantas_vivero1</td>\n",
       "      <td>POINT (738088.2693076414 6090382.287082614)</td>\n",
       "    </tr>\n",
       "    <tr>\n",
       "      <th>19</th>\n",
       "      <td>0.0</td>\n",
       "      <td>plantas_vivero0</td>\n",
       "      <td>POINT (738088.4020276016 6090382.287082614)</td>\n",
       "    </tr>\n",
       "    <tr>\n",
       "      <th>20</th>\n",
       "      <td>1.0</td>\n",
       "      <td>plantas_vivero1</td>\n",
       "      <td>POINT (738088.0923476944 6090382.276022617)</td>\n",
       "    </tr>\n",
       "    <tr>\n",
       "      <th>21</th>\n",
       "      <td>0.0</td>\n",
       "      <td>plantas_vivero0</td>\n",
       "      <td>POINT (738088.424147595 6090382.276022617)</td>\n",
       "    </tr>\n",
       "    <tr>\n",
       "      <th>22</th>\n",
       "      <td>0.0</td>\n",
       "      <td>plantas_vivero0</td>\n",
       "      <td>POINT (738088.0702277011 6090382.26496262)</td>\n",
       "    </tr>\n",
       "    <tr>\n",
       "      <th>23</th>\n",
       "      <td>0.0</td>\n",
       "      <td>plantas_vivero0</td>\n",
       "      <td>POINT (738088.1918876646 6090382.26496262)</td>\n",
       "    </tr>\n",
       "    <tr>\n",
       "      <th>24</th>\n",
       "      <td>1.0</td>\n",
       "      <td>plantas_vivero1</td>\n",
       "      <td>POINT (738088.3577876148 6090382.253902623)</td>\n",
       "    </tr>\n",
       "    <tr>\n",
       "      <th>25</th>\n",
       "      <td>0.0</td>\n",
       "      <td>plantas_vivero0</td>\n",
       "      <td>POINT (738088.457327585 6090382.253902623)</td>\n",
       "    </tr>\n",
       "    <tr>\n",
       "      <th>26</th>\n",
       "      <td>0.0</td>\n",
       "      <td>plantas_vivero0</td>\n",
       "      <td>POINT (738088.0259877143 6090382.242842627)</td>\n",
       "    </tr>\n",
       "    <tr>\n",
       "      <th>27</th>\n",
       "      <td>0.0</td>\n",
       "      <td>plantas_vivero0</td>\n",
       "      <td>POINT (738088.4794475784 6090382.242842627)</td>\n",
       "    </tr>\n",
       "    <tr>\n",
       "      <th>28</th>\n",
       "      <td>1.0</td>\n",
       "      <td>plantas_vivero1</td>\n",
       "      <td>POINT (738088.1476476778 6090382.23178263)</td>\n",
       "    </tr>\n",
       "    <tr>\n",
       "      <th>29</th>\n",
       "      <td>1.0</td>\n",
       "      <td>plantas_vivero1</td>\n",
       "      <td>POINT (738088.2914276348 6090382.23178263)</td>\n",
       "    </tr>\n",
       "    <tr>\n",
       "      <th>...</th>\n",
       "      <td>...</td>\n",
       "      <td>...</td>\n",
       "      <td>...</td>\n",
       "    </tr>\n",
       "    <tr>\n",
       "      <th>40092</th>\n",
       "      <td>2.0</td>\n",
       "      <td>plantas_vivero2</td>\n",
       "      <td>POINT (738107.5137018721 6090363.241768324)</td>\n",
       "    </tr>\n",
       "    <tr>\n",
       "      <th>40093</th>\n",
       "      <td>0.0</td>\n",
       "      <td>plantas_vivero0</td>\n",
       "      <td>POINT (738107.1155419915 6090363.230708327)</td>\n",
       "    </tr>\n",
       "    <tr>\n",
       "      <th>40094</th>\n",
       "      <td>2.0</td>\n",
       "      <td>plantas_vivero2</td>\n",
       "      <td>POINT (738107.1708419749 6090363.230708327)</td>\n",
       "    </tr>\n",
       "    <tr>\n",
       "      <th>40095</th>\n",
       "      <td>1.0</td>\n",
       "      <td>plantas_vivero1</td>\n",
       "      <td>POINT (738107.2925019384 6090363.21964833)</td>\n",
       "    </tr>\n",
       "    <tr>\n",
       "      <th>40096</th>\n",
       "      <td>0.0</td>\n",
       "      <td>plantas_vivero0</td>\n",
       "      <td>POINT (738107.2703819451 6090363.208588334)</td>\n",
       "    </tr>\n",
       "    <tr>\n",
       "      <th>40097</th>\n",
       "      <td>2.0</td>\n",
       "      <td>plantas_vivero2</td>\n",
       "      <td>POINT (738107.3256819285 6090363.208588334)</td>\n",
       "    </tr>\n",
       "    <tr>\n",
       "      <th>40098</th>\n",
       "      <td>1.0</td>\n",
       "      <td>plantas_vivero1</td>\n",
       "      <td>POINT (738107.3699219152 6090363.197528337)</td>\n",
       "    </tr>\n",
       "    <tr>\n",
       "      <th>40099</th>\n",
       "      <td>2.0</td>\n",
       "      <td>plantas_vivero2</td>\n",
       "      <td>POINT (738107.4252218987 6090363.197528337)</td>\n",
       "    </tr>\n",
       "    <tr>\n",
       "      <th>40100</th>\n",
       "      <td>1.0</td>\n",
       "      <td>plantas_vivero1</td>\n",
       "      <td>POINT (738107.4473418921 6090363.197528337)</td>\n",
       "    </tr>\n",
       "    <tr>\n",
       "      <th>40101</th>\n",
       "      <td>1.0</td>\n",
       "      <td>plantas_vivero1</td>\n",
       "      <td>POINT (738107.4915818787 6090363.18646834)</td>\n",
       "    </tr>\n",
       "    <tr>\n",
       "      <th>40102</th>\n",
       "      <td>0.0</td>\n",
       "      <td>plantas_vivero0</td>\n",
       "      <td>POINT (738107.1929619682 6090363.175408344)</td>\n",
       "    </tr>\n",
       "    <tr>\n",
       "      <th>40103</th>\n",
       "      <td>0.0</td>\n",
       "      <td>plantas_vivero0</td>\n",
       "      <td>POINT (738107.2925019384 6090363.175408344)</td>\n",
       "    </tr>\n",
       "    <tr>\n",
       "      <th>40104</th>\n",
       "      <td>0.0</td>\n",
       "      <td>plantas_vivero0</td>\n",
       "      <td>POINT (738107.5247618689 6090363.175408344)</td>\n",
       "    </tr>\n",
       "    <tr>\n",
       "      <th>40105</th>\n",
       "      <td>2.0</td>\n",
       "      <td>plantas_vivero2</td>\n",
       "      <td>POINT (738107.1266019882 6090363.164348347)</td>\n",
       "    </tr>\n",
       "    <tr>\n",
       "      <th>40106</th>\n",
       "      <td>0.0</td>\n",
       "      <td>plantas_vivero0</td>\n",
       "      <td>POINT (738107.2261419584 6090363.164348347)</td>\n",
       "    </tr>\n",
       "    <tr>\n",
       "      <th>40107</th>\n",
       "      <td>1.0</td>\n",
       "      <td>plantas_vivero1</td>\n",
       "      <td>POINT (738107.3920419086 6090363.142228354)</td>\n",
       "    </tr>\n",
       "    <tr>\n",
       "      <th>40108</th>\n",
       "      <td>2.0</td>\n",
       "      <td>plantas_vivero2</td>\n",
       "      <td>POINT (738107.2814419417 6090363.131168357)</td>\n",
       "    </tr>\n",
       "    <tr>\n",
       "      <th>40109</th>\n",
       "      <td>1.0</td>\n",
       "      <td>plantas_vivero1</td>\n",
       "      <td>POINT (738107.3256819285 6090363.131168357)</td>\n",
       "    </tr>\n",
       "    <tr>\n",
       "      <th>40110</th>\n",
       "      <td>2.0</td>\n",
       "      <td>plantas_vivero2</td>\n",
       "      <td>POINT (738107.4473418921 6090363.131168357)</td>\n",
       "    </tr>\n",
       "    <tr>\n",
       "      <th>40111</th>\n",
       "      <td>1.0</td>\n",
       "      <td>plantas_vivero1</td>\n",
       "      <td>POINT (738107.204021965 6090363.120108359)</td>\n",
       "    </tr>\n",
       "    <tr>\n",
       "      <th>40112</th>\n",
       "      <td>2.0</td>\n",
       "      <td>plantas_vivero2</td>\n",
       "      <td>POINT (738107.5026418754 6090363.120108359)</td>\n",
       "    </tr>\n",
       "    <tr>\n",
       "      <th>40113</th>\n",
       "      <td>2.0</td>\n",
       "      <td>plantas_vivero2</td>\n",
       "      <td>POINT (738107.2372019551 6090363.109048363)</td>\n",
       "    </tr>\n",
       "    <tr>\n",
       "      <th>40114</th>\n",
       "      <td>2.0</td>\n",
       "      <td>plantas_vivero2</td>\n",
       "      <td>POINT (738107.3699219152 6090363.109048363)</td>\n",
       "    </tr>\n",
       "    <tr>\n",
       "      <th>40115</th>\n",
       "      <td>1.0</td>\n",
       "      <td>plantas_vivero1</td>\n",
       "      <td>POINT (738107.3035619351 6090363.097988366)</td>\n",
       "    </tr>\n",
       "    <tr>\n",
       "      <th>40116</th>\n",
       "      <td>0.0</td>\n",
       "      <td>plantas_vivero0</td>\n",
       "      <td>POINT (738107.2372019551 6090363.075868373)</td>\n",
       "    </tr>\n",
       "    <tr>\n",
       "      <th>40117</th>\n",
       "      <td>0.0</td>\n",
       "      <td>plantas_vivero0</td>\n",
       "      <td>POINT (738107.2814419417 6090363.075868373)</td>\n",
       "    </tr>\n",
       "    <tr>\n",
       "      <th>40118</th>\n",
       "      <td>0.0</td>\n",
       "      <td>plantas_vivero0</td>\n",
       "      <td>POINT (738107.3256819285 6090363.053748379)</td>\n",
       "    </tr>\n",
       "    <tr>\n",
       "      <th>40119</th>\n",
       "      <td>0.0</td>\n",
       "      <td>plantas_vivero0</td>\n",
       "      <td>POINT (738107.414161902 6090363.053748379)</td>\n",
       "    </tr>\n",
       "    <tr>\n",
       "      <th>40120</th>\n",
       "      <td>0.0</td>\n",
       "      <td>plantas_vivero0</td>\n",
       "      <td>POINT (738107.4584018887 6090363.053748379)</td>\n",
       "    </tr>\n",
       "    <tr>\n",
       "      <th>40121</th>\n",
       "      <td>1.0</td>\n",
       "      <td>plantas_vivero1</td>\n",
       "      <td>POINT (738107.3920419086 6090362.998448396)</td>\n",
       "    </tr>\n",
       "  </tbody>\n",
       "</table>\n",
       "<p>40122 rows × 3 columns</p>\n",
       "</div>"
      ],
      "text/plain": [
       "       TemplateID       TemplateNa  \\\n",
       "0             0.0  plantas_vivero0   \n",
       "1             0.0  plantas_vivero0   \n",
       "2             0.0  plantas_vivero0   \n",
       "3             0.0  plantas_vivero0   \n",
       "4             0.0  plantas_vivero0   \n",
       "5             1.0  plantas_vivero1   \n",
       "6             0.0  plantas_vivero0   \n",
       "7             0.0  plantas_vivero0   \n",
       "8             0.0  plantas_vivero0   \n",
       "9             0.0  plantas_vivero0   \n",
       "10            1.0  plantas_vivero1   \n",
       "11            0.0  plantas_vivero0   \n",
       "12            0.0  plantas_vivero0   \n",
       "13            0.0  plantas_vivero0   \n",
       "14            0.0  plantas_vivero0   \n",
       "15            2.0  plantas_vivero2   \n",
       "16            0.0  plantas_vivero0   \n",
       "17            0.0  plantas_vivero0   \n",
       "18            1.0  plantas_vivero1   \n",
       "19            0.0  plantas_vivero0   \n",
       "20            1.0  plantas_vivero1   \n",
       "21            0.0  plantas_vivero0   \n",
       "22            0.0  plantas_vivero0   \n",
       "23            0.0  plantas_vivero0   \n",
       "24            1.0  plantas_vivero1   \n",
       "25            0.0  plantas_vivero0   \n",
       "26            0.0  plantas_vivero0   \n",
       "27            0.0  plantas_vivero0   \n",
       "28            1.0  plantas_vivero1   \n",
       "29            1.0  plantas_vivero1   \n",
       "...           ...              ...   \n",
       "40092         2.0  plantas_vivero2   \n",
       "40093         0.0  plantas_vivero0   \n",
       "40094         2.0  plantas_vivero2   \n",
       "40095         1.0  plantas_vivero1   \n",
       "40096         0.0  plantas_vivero0   \n",
       "40097         2.0  plantas_vivero2   \n",
       "40098         1.0  plantas_vivero1   \n",
       "40099         2.0  plantas_vivero2   \n",
       "40100         1.0  plantas_vivero1   \n",
       "40101         1.0  plantas_vivero1   \n",
       "40102         0.0  plantas_vivero0   \n",
       "40103         0.0  plantas_vivero0   \n",
       "40104         0.0  plantas_vivero0   \n",
       "40105         2.0  plantas_vivero2   \n",
       "40106         0.0  plantas_vivero0   \n",
       "40107         1.0  plantas_vivero1   \n",
       "40108         2.0  plantas_vivero2   \n",
       "40109         1.0  plantas_vivero1   \n",
       "40110         2.0  plantas_vivero2   \n",
       "40111         1.0  plantas_vivero1   \n",
       "40112         2.0  plantas_vivero2   \n",
       "40113         2.0  plantas_vivero2   \n",
       "40114         2.0  plantas_vivero2   \n",
       "40115         1.0  plantas_vivero1   \n",
       "40116         0.0  plantas_vivero0   \n",
       "40117         0.0  plantas_vivero0   \n",
       "40118         0.0  plantas_vivero0   \n",
       "40119         0.0  plantas_vivero0   \n",
       "40120         0.0  plantas_vivero0   \n",
       "40121         1.0  plantas_vivero1   \n",
       "\n",
       "                                          geometry  \n",
       "0      POINT (738088.1365876811 6090382.441922568)  \n",
       "1      POINT (738088.1587076746 6090382.430862571)  \n",
       "2      POINT (738088.1918876646 6090382.408742578)  \n",
       "3       POINT (738088.214007658 6090382.397682581)  \n",
       "4      POINT (738088.1918876646 6090382.386622584)  \n",
       "5      POINT (738088.1255276845 6090382.375562588)  \n",
       "6       POINT (738088.247187648 6090382.375562588)  \n",
       "7      POINT (738088.2693076414 6090382.364502591)  \n",
       "8      POINT (738088.2914276348 6090382.353442594)  \n",
       "9      POINT (738088.1144676878 6090382.342382598)  \n",
       "10     POINT (738088.1918876646 6090382.342382598)  \n",
       "11     POINT (738088.3246076248 6090382.331322601)  \n",
       "12      POINT (738088.214007658 6090382.320262604)  \n",
       "13     POINT (738088.3467276181 6090382.320262604)  \n",
       "14     POINT (738088.1365876811 6090382.309202608)  \n",
       "15     POINT (738088.0481077076 6090382.298142611)  \n",
       "16     POINT (738088.3799076083 6090382.298142611)  \n",
       "17     POINT (738088.2361276513 6090382.287082614)  \n",
       "18     POINT (738088.2693076414 6090382.287082614)  \n",
       "19     POINT (738088.4020276016 6090382.287082614)  \n",
       "20     POINT (738088.0923476944 6090382.276022617)  \n",
       "21      POINT (738088.424147595 6090382.276022617)  \n",
       "22      POINT (738088.0702277011 6090382.26496262)  \n",
       "23      POINT (738088.1918876646 6090382.26496262)  \n",
       "24     POINT (738088.3577876148 6090382.253902623)  \n",
       "25      POINT (738088.457327585 6090382.253902623)  \n",
       "26     POINT (738088.0259877143 6090382.242842627)  \n",
       "27     POINT (738088.4794475784 6090382.242842627)  \n",
       "28      POINT (738088.1476476778 6090382.23178263)  \n",
       "29      POINT (738088.2914276348 6090382.23178263)  \n",
       "...                                            ...  \n",
       "40092  POINT (738107.5137018721 6090363.241768324)  \n",
       "40093  POINT (738107.1155419915 6090363.230708327)  \n",
       "40094  POINT (738107.1708419749 6090363.230708327)  \n",
       "40095   POINT (738107.2925019384 6090363.21964833)  \n",
       "40096  POINT (738107.2703819451 6090363.208588334)  \n",
       "40097  POINT (738107.3256819285 6090363.208588334)  \n",
       "40098  POINT (738107.3699219152 6090363.197528337)  \n",
       "40099  POINT (738107.4252218987 6090363.197528337)  \n",
       "40100  POINT (738107.4473418921 6090363.197528337)  \n",
       "40101   POINT (738107.4915818787 6090363.18646834)  \n",
       "40102  POINT (738107.1929619682 6090363.175408344)  \n",
       "40103  POINT (738107.2925019384 6090363.175408344)  \n",
       "40104  POINT (738107.5247618689 6090363.175408344)  \n",
       "40105  POINT (738107.1266019882 6090363.164348347)  \n",
       "40106  POINT (738107.2261419584 6090363.164348347)  \n",
       "40107  POINT (738107.3920419086 6090363.142228354)  \n",
       "40108  POINT (738107.2814419417 6090363.131168357)  \n",
       "40109  POINT (738107.3256819285 6090363.131168357)  \n",
       "40110  POINT (738107.4473418921 6090363.131168357)  \n",
       "40111   POINT (738107.204021965 6090363.120108359)  \n",
       "40112  POINT (738107.5026418754 6090363.120108359)  \n",
       "40113  POINT (738107.2372019551 6090363.109048363)  \n",
       "40114  POINT (738107.3699219152 6090363.109048363)  \n",
       "40115  POINT (738107.3035619351 6090363.097988366)  \n",
       "40116  POINT (738107.2372019551 6090363.075868373)  \n",
       "40117  POINT (738107.2814419417 6090363.075868373)  \n",
       "40118  POINT (738107.3256819285 6090363.053748379)  \n",
       "40119   POINT (738107.414161902 6090363.053748379)  \n",
       "40120  POINT (738107.4584018887 6090363.053748379)  \n",
       "40121  POINT (738107.3920419086 6090362.998448396)  \n",
       "\n",
       "[40122 rows x 3 columns]"
      ]
     },
     "execution_count": 4,
     "metadata": {},
     "output_type": "execute_result"
    }
   ],
   "source": [
    "puntos"
   ]
  },
  {
   "cell_type": "code",
   "execution_count": 9,
   "metadata": {},
   "outputs": [],
   "source": [
    "offsetX = 0\n",
    "offsetY = 0\n",
    "width = 100\n",
    "height = 100\n",
    "step = 10\n",
    "cuentas = pd.DataFrame(columns=['imagen', 'cant_arboles'])"
   ]
  },
  {
   "cell_type": "code",
   "execution_count": 14,
   "metadata": {
    "scrolled": true
   },
   "outputs": [
    {
     "name": "stderr",
     "output_type": "stream",
     "text": [
      "Clipping input data to the valid range for imshow with RGB data ([0..1] for floats or [0..255] for integers).\n"
     ]
    },
    {
     "name": "stdout",
     "output_type": "stream",
     "text": [
      "/home/diego/Proyecto Vivero/train2/salida102.tif\n",
      "/home/diego/Proyecto Vivero/train2/salida103.tif\n",
      "/home/diego/Proyecto Vivero/train2/salida104.tif\n",
      "/home/diego/Proyecto Vivero/train2/salida105.tif\n",
      "/home/diego/Proyecto Vivero/train2/salida106.tif\n",
      "/home/diego/Proyecto Vivero/train2/salida107.tif\n",
      "/home/diego/Proyecto Vivero/train2/salida108.tif\n",
      "/home/diego/Proyecto Vivero/train2/salida109.tif\n",
      "/home/diego/Proyecto Vivero/train2/salida110.tif\n",
      "/home/diego/Proyecto Vivero/train2/salida111.tif\n",
      "/home/diego/Proyecto Vivero/train2/salida112.tif\n",
      "/home/diego/Proyecto Vivero/train2/salida113.tif\n",
      "/home/diego/Proyecto Vivero/train2/salida114.tif\n",
      "/home/diego/Proyecto Vivero/train2/salida115.tif\n",
      "/home/diego/Proyecto Vivero/train2/salida116.tif\n",
      "/home/diego/Proyecto Vivero/train2/salida117.tif\n",
      "/home/diego/Proyecto Vivero/train2/salida118.tif\n",
      "/home/diego/Proyecto Vivero/train2/salida119.tif\n",
      "/home/diego/Proyecto Vivero/train2/salida120.tif\n",
      "/home/diego/Proyecto Vivero/train2/salida121.tif\n",
      "/home/diego/Proyecto Vivero/train2/salida122.tif\n",
      "/home/diego/Proyecto Vivero/train2/salida123.tif\n",
      "/home/diego/Proyecto Vivero/train2/salida124.tif\n",
      "/home/diego/Proyecto Vivero/train2/salida125.tif\n",
      "/home/diego/Proyecto Vivero/train2/salida126.tif\n",
      "/home/diego/Proyecto Vivero/train2/salida127.tif\n",
      "/home/diego/Proyecto Vivero/train2/salida128.tif\n",
      "/home/diego/Proyecto Vivero/train2/salida129.tif\n",
      "/home/diego/Proyecto Vivero/train2/salida130.tif\n",
      "/home/diego/Proyecto Vivero/train2/salida131.tif\n",
      "/home/diego/Proyecto Vivero/train2/salida132.tif\n",
      "/home/diego/Proyecto Vivero/train2/salida133.tif\n",
      "/home/diego/Proyecto Vivero/train2/salida134.tif\n",
      "/home/diego/Proyecto Vivero/train2/salida135.tif\n",
      "/home/diego/Proyecto Vivero/train2/salida136.tif\n",
      "/home/diego/Proyecto Vivero/train2/salida137.tif\n",
      "/home/diego/Proyecto Vivero/train2/salida138.tif\n",
      "/home/diego/Proyecto Vivero/train2/salida139.tif\n",
      "/home/diego/Proyecto Vivero/train2/salida140.tif\n",
      "/home/diego/Proyecto Vivero/train2/salida141.tif\n",
      "/home/diego/Proyecto Vivero/train2/salida142.tif\n",
      "/home/diego/Proyecto Vivero/train2/salida143.tif\n",
      "/home/diego/Proyecto Vivero/train2/salida144.tif\n",
      "/home/diego/Proyecto Vivero/train2/salida145.tif\n",
      "/home/diego/Proyecto Vivero/train2/salida146.tif\n",
      "/home/diego/Proyecto Vivero/train2/salida147.tif\n",
      "/home/diego/Proyecto Vivero/train2/salida148.tif\n",
      "/home/diego/Proyecto Vivero/train2/salida149.tif\n",
      "/home/diego/Proyecto Vivero/train2/salida150.tif\n",
      "/home/diego/Proyecto Vivero/train2/salida151.tif\n",
      "/home/diego/Proyecto Vivero/train2/salida152.tif\n",
      "/home/diego/Proyecto Vivero/train2/salida153.tif\n",
      "/home/diego/Proyecto Vivero/train2/salida154.tif\n",
      "/home/diego/Proyecto Vivero/train2/salida155.tif\n",
      "/home/diego/Proyecto Vivero/train2/salida156.tif\n",
      "/home/diego/Proyecto Vivero/train2/salida157.tif\n",
      "/home/diego/Proyecto Vivero/train2/salida158.tif\n",
      "/home/diego/Proyecto Vivero/train2/salida159.tif\n",
      "/home/diego/Proyecto Vivero/train2/salida160.tif\n",
      "/home/diego/Proyecto Vivero/train2/salida161.tif\n",
      "/home/diego/Proyecto Vivero/train2/salida162.tif\n",
      "/home/diego/Proyecto Vivero/train2/salida163.tif\n",
      "/home/diego/Proyecto Vivero/train2/salida164.tif\n",
      "/home/diego/Proyecto Vivero/train2/salida165.tif\n",
      "/home/diego/Proyecto Vivero/train2/salida166.tif\n",
      "/home/diego/Proyecto Vivero/train2/salida167.tif\n"
     ]
    },
    {
     "name": "stderr",
     "output_type": "stream",
     "text": [
      "Clipping input data to the valid range for imshow with RGB data ([0..1] for floats or [0..255] for integers).\n",
      "Clipping input data to the valid range for imshow with RGB data ([0..1] for floats or [0..255] for integers).\n"
     ]
    },
    {
     "name": "stdout",
     "output_type": "stream",
     "text": [
      "False    40122\n",
      "dtype: int64\n",
      "False    40122\n",
      "dtype: int64\n"
     ]
    },
    {
     "name": "stderr",
     "output_type": "stream",
     "text": [
      "Clipping input data to the valid range for imshow with RGB data ([0..1] for floats or [0..255] for integers).\n"
     ]
    },
    {
     "name": "stdout",
     "output_type": "stream",
     "text": [
      "False    40122\n",
      "dtype: int64\n"
     ]
    },
    {
     "name": "stderr",
     "output_type": "stream",
     "text": [
      "Clipping input data to the valid range for imshow with RGB data ([0..1] for floats or [0..255] for integers).\n",
      "Clipping input data to the valid range for imshow with RGB data ([0..1] for floats or [0..255] for integers).\n"
     ]
    },
    {
     "name": "stdout",
     "output_type": "stream",
     "text": [
      "False    40122\n",
      "dtype: int64\n",
      "False    40122\n",
      "dtype: int64\n"
     ]
    },
    {
     "name": "stderr",
     "output_type": "stream",
     "text": [
      "Clipping input data to the valid range for imshow with RGB data ([0..1] for floats or [0..255] for integers).\n",
      "Clipping input data to the valid range for imshow with RGB data ([0..1] for floats or [0..255] for integers).\n"
     ]
    },
    {
     "name": "stdout",
     "output_type": "stream",
     "text": [
      "False    40122\n",
      "dtype: int64\n",
      "False    40122\n",
      "dtype: int64\n"
     ]
    },
    {
     "name": "stderr",
     "output_type": "stream",
     "text": [
      "Clipping input data to the valid range for imshow with RGB data ([0..1] for floats or [0..255] for integers).\n"
     ]
    },
    {
     "name": "stdout",
     "output_type": "stream",
     "text": [
      "False    40122\n",
      "dtype: int64\n",
      "False    40122\n",
      "dtype: int64\n"
     ]
    },
    {
     "name": "stderr",
     "output_type": "stream",
     "text": [
      "Clipping input data to the valid range for imshow with RGB data ([0..1] for floats or [0..255] for integers).\n",
      "Clipping input data to the valid range for imshow with RGB data ([0..1] for floats or [0..255] for integers).\n"
     ]
    },
    {
     "name": "stdout",
     "output_type": "stream",
     "text": [
      "False    40122\n",
      "dtype: int64\n",
      "False    40122\n",
      "dtype: int64\n"
     ]
    },
    {
     "name": "stderr",
     "output_type": "stream",
     "text": [
      "Clipping input data to the valid range for imshow with RGB data ([0..1] for floats or [0..255] for integers).\n",
      "Clipping input data to the valid range for imshow with RGB data ([0..1] for floats or [0..255] for integers).\n"
     ]
    },
    {
     "name": "stdout",
     "output_type": "stream",
     "text": [
      "False    40122\n",
      "dtype: int64\n",
      "False    40122\n",
      "dtype: int64\n"
     ]
    },
    {
     "name": "stderr",
     "output_type": "stream",
     "text": [
      "Clipping input data to the valid range for imshow with RGB data ([0..1] for floats or [0..255] for integers).\n",
      "Clipping input data to the valid range for imshow with RGB data ([0..1] for floats or [0..255] for integers).\n"
     ]
    },
    {
     "name": "stdout",
     "output_type": "stream",
     "text": [
      "False    40122\n",
      "dtype: int64\n"
     ]
    },
    {
     "name": "stderr",
     "output_type": "stream",
     "text": [
      "Clipping input data to the valid range for imshow with RGB data ([0..1] for floats or [0..255] for integers).\n",
      "Clipping input data to the valid range for imshow with RGB data ([0..1] for floats or [0..255] for integers).\n"
     ]
    },
    {
     "name": "stdout",
     "output_type": "stream",
     "text": [
      "False    40122\n",
      "dtype: int64\n",
      "False    40122\n",
      "dtype: int64\n"
     ]
    },
    {
     "name": "stderr",
     "output_type": "stream",
     "text": [
      "Clipping input data to the valid range for imshow with RGB data ([0..1] for floats or [0..255] for integers).\n"
     ]
    },
    {
     "name": "stdout",
     "output_type": "stream",
     "text": [
      "False    40122\n",
      "dtype: int64\n",
      "False    40122\n",
      "dtype: int64\n"
     ]
    },
    {
     "name": "stderr",
     "output_type": "stream",
     "text": [
      "Clipping input data to the valid range for imshow with RGB data ([0..1] for floats or [0..255] for integers).\n",
      "Clipping input data to the valid range for imshow with RGB data ([0..1] for floats or [0..255] for integers).\n",
      "Clipping input data to the valid range for imshow with RGB data ([0..1] for floats or [0..255] for integers).\n"
     ]
    },
    {
     "name": "stdout",
     "output_type": "stream",
     "text": [
      "False    40122\n",
      "dtype: int64\n",
      "False    40122\n",
      "dtype: int64\n"
     ]
    },
    {
     "name": "stderr",
     "output_type": "stream",
     "text": [
      "Clipping input data to the valid range for imshow with RGB data ([0..1] for floats or [0..255] for integers).\n",
      "Clipping input data to the valid range for imshow with RGB data ([0..1] for floats or [0..255] for integers).\n"
     ]
    },
    {
     "name": "stdout",
     "output_type": "stream",
     "text": [
      "False    40122\n",
      "dtype: int64\n",
      "False    40122\n",
      "dtype: int64\n"
     ]
    },
    {
     "name": "stderr",
     "output_type": "stream",
     "text": [
      "Clipping input data to the valid range for imshow with RGB data ([0..1] for floats or [0..255] for integers).\n",
      "Clipping input data to the valid range for imshow with RGB data ([0..1] for floats or [0..255] for integers).\n"
     ]
    },
    {
     "name": "stdout",
     "output_type": "stream",
     "text": [
      "False    40122\n",
      "dtype: int64\n",
      "False    40122\n",
      "dtype: int64\n"
     ]
    },
    {
     "name": "stderr",
     "output_type": "stream",
     "text": [
      "Clipping input data to the valid range for imshow with RGB data ([0..1] for floats or [0..255] for integers).\n",
      "Clipping input data to the valid range for imshow with RGB data ([0..1] for floats or [0..255] for integers).\n"
     ]
    },
    {
     "name": "stdout",
     "output_type": "stream",
     "text": [
      "False    40122\n",
      "dtype: int64\n",
      "False    40122\n",
      "dtype: int64\n"
     ]
    },
    {
     "name": "stderr",
     "output_type": "stream",
     "text": [
      "Clipping input data to the valid range for imshow with RGB data ([0..1] for floats or [0..255] for integers).\n"
     ]
    },
    {
     "name": "stdout",
     "output_type": "stream",
     "text": [
      "False    40122\n",
      "dtype: int64\n",
      "False    40122\n",
      "dtype: int64\n"
     ]
    },
    {
     "name": "stderr",
     "output_type": "stream",
     "text": [
      "Clipping input data to the valid range for imshow with RGB data ([0..1] for floats or [0..255] for integers).\n",
      "Clipping input data to the valid range for imshow with RGB data ([0..1] for floats or [0..255] for integers).\n"
     ]
    },
    {
     "name": "stdout",
     "output_type": "stream",
     "text": [
      "False    40122\n",
      "dtype: int64\n",
      "False    40122\n",
      "dtype: int64\n"
     ]
    },
    {
     "name": "stderr",
     "output_type": "stream",
     "text": [
      "Clipping input data to the valid range for imshow with RGB data ([0..1] for floats or [0..255] for integers).\n"
     ]
    },
    {
     "name": "stdout",
     "output_type": "stream",
     "text": [
      "False    40122\n",
      "dtype: int64\n"
     ]
    },
    {
     "name": "stderr",
     "output_type": "stream",
     "text": [
      "Clipping input data to the valid range for imshow with RGB data ([0..1] for floats or [0..255] for integers).\n"
     ]
    },
    {
     "name": "stdout",
     "output_type": "stream",
     "text": [
      "False    40122\n",
      "dtype: int64\n"
     ]
    },
    {
     "name": "stderr",
     "output_type": "stream",
     "text": [
      "Clipping input data to the valid range for imshow with RGB data ([0..1] for floats or [0..255] for integers).\n"
     ]
    },
    {
     "name": "stdout",
     "output_type": "stream",
     "text": [
      "False    40122\n",
      "dtype: int64\n"
     ]
    },
    {
     "name": "stderr",
     "output_type": "stream",
     "text": [
      "Clipping input data to the valid range for imshow with RGB data ([0..1] for floats or [0..255] for integers).\n"
     ]
    },
    {
     "name": "stdout",
     "output_type": "stream",
     "text": [
      "False    40122\n",
      "dtype: int64\n"
     ]
    },
    {
     "name": "stderr",
     "output_type": "stream",
     "text": [
      "Clipping input data to the valid range for imshow with RGB data ([0..1] for floats or [0..255] for integers).\n"
     ]
    },
    {
     "name": "stdout",
     "output_type": "stream",
     "text": [
      "False    40122\n",
      "dtype: int64\n"
     ]
    },
    {
     "name": "stderr",
     "output_type": "stream",
     "text": [
      "Clipping input data to the valid range for imshow with RGB data ([0..1] for floats or [0..255] for integers).\n"
     ]
    },
    {
     "name": "stdout",
     "output_type": "stream",
     "text": [
      "False    40122\n",
      "dtype: int64\n"
     ]
    },
    {
     "name": "stderr",
     "output_type": "stream",
     "text": [
      "Clipping input data to the valid range for imshow with RGB data ([0..1] for floats or [0..255] for integers).\n"
     ]
    },
    {
     "name": "stdout",
     "output_type": "stream",
     "text": [
      "False    40122\n",
      "dtype: int64\n",
      "False    40122\n",
      "dtype: int64\n"
     ]
    },
    {
     "name": "stderr",
     "output_type": "stream",
     "text": [
      "Clipping input data to the valid range for imshow with RGB data ([0..1] for floats or [0..255] for integers).\n",
      "Clipping input data to the valid range for imshow with RGB data ([0..1] for floats or [0..255] for integers).\n"
     ]
    },
    {
     "name": "stdout",
     "output_type": "stream",
     "text": [
      "False    40122\n",
      "dtype: int64\n"
     ]
    },
    {
     "name": "stderr",
     "output_type": "stream",
     "text": [
      "Clipping input data to the valid range for imshow with RGB data ([0..1] for floats or [0..255] for integers).\n"
     ]
    },
    {
     "name": "stdout",
     "output_type": "stream",
     "text": [
      "False    40122\n",
      "dtype: int64\n"
     ]
    },
    {
     "name": "stderr",
     "output_type": "stream",
     "text": [
      "Clipping input data to the valid range for imshow with RGB data ([0..1] for floats or [0..255] for integers).\n",
      "Clipping input data to the valid range for imshow with RGB data ([0..1] for floats or [0..255] for integers).\n"
     ]
    },
    {
     "name": "stdout",
     "output_type": "stream",
     "text": [
      "False    40122\n",
      "dtype: int64\n",
      "False    40122\n",
      "dtype: int64\n"
     ]
    },
    {
     "name": "stderr",
     "output_type": "stream",
     "text": [
      "Clipping input data to the valid range for imshow with RGB data ([0..1] for floats or [0..255] for integers).\n"
     ]
    },
    {
     "name": "stdout",
     "output_type": "stream",
     "text": [
      "False    40122\n",
      "dtype: int64\n",
      "False    40122\n",
      "dtype: int64\n"
     ]
    },
    {
     "name": "stderr",
     "output_type": "stream",
     "text": [
      "Clipping input data to the valid range for imshow with RGB data ([0..1] for floats or [0..255] for integers).\n"
     ]
    },
    {
     "name": "stdout",
     "output_type": "stream",
     "text": [
      "/home/diego/Proyecto Vivero/train2/salida351.tif\n",
      "/home/diego/Proyecto Vivero/train2/salida352.tif\n",
      "/home/diego/Proyecto Vivero/train2/salida353.tif\n",
      "/home/diego/Proyecto Vivero/train2/salida354.tif\n",
      "/home/diego/Proyecto Vivero/train2/salida355.tif\n",
      "/home/diego/Proyecto Vivero/train2/salida356.tif\n",
      "/home/diego/Proyecto Vivero/train2/salida357.tif\n",
      "/home/diego/Proyecto Vivero/train2/salida358.tif\n",
      "/home/diego/Proyecto Vivero/train2/salida359.tif\n",
      "/home/diego/Proyecto Vivero/train2/salida360.tif\n",
      "/home/diego/Proyecto Vivero/train2/salida361.tif\n",
      "/home/diego/Proyecto Vivero/train2/salida362.tif\n",
      "/home/diego/Proyecto Vivero/train2/salida363.tif\n",
      "/home/diego/Proyecto Vivero/train2/salida364.tif\n",
      "/home/diego/Proyecto Vivero/train2/salida365.tif\n",
      "/home/diego/Proyecto Vivero/train2/salida366.tif\n",
      "/home/diego/Proyecto Vivero/train2/salida367.tif\n",
      "/home/diego/Proyecto Vivero/train2/salida368.tif\n",
      "/home/diego/Proyecto Vivero/train2/salida369.tif\n",
      "/home/diego/Proyecto Vivero/train2/salida370.tif\n",
      "/home/diego/Proyecto Vivero/train2/salida371.tif\n",
      "/home/diego/Proyecto Vivero/train2/salida372.tif\n",
      "/home/diego/Proyecto Vivero/train2/salida373.tif\n",
      "/home/diego/Proyecto Vivero/train2/salida374.tif\n",
      "/home/diego/Proyecto Vivero/train2/salida375.tif\n",
      "/home/diego/Proyecto Vivero/train2/salida376.tif\n",
      "/home/diego/Proyecto Vivero/train2/salida377.tif\n",
      "/home/diego/Proyecto Vivero/train2/salida378.tif\n",
      "/home/diego/Proyecto Vivero/train2/salida379.tif\n",
      "/home/diego/Proyecto Vivero/train2/salida380.tif\n",
      "/home/diego/Proyecto Vivero/train2/salida381.tif\n",
      "/home/diego/Proyecto Vivero/train2/salida382.tif\n",
      "/home/diego/Proyecto Vivero/train2/salida383.tif\n",
      "/home/diego/Proyecto Vivero/train2/salida384.tif\n",
      "/home/diego/Proyecto Vivero/train2/salida385.tif\n",
      "/home/diego/Proyecto Vivero/train2/salida386.tif\n",
      "/home/diego/Proyecto Vivero/train2/salida387.tif\n",
      "/home/diego/Proyecto Vivero/train2/salida388.tif\n",
      "/home/diego/Proyecto Vivero/train2/salida389.tif\n",
      "/home/diego/Proyecto Vivero/train2/salida390.tif\n",
      "/home/diego/Proyecto Vivero/train2/salida391.tif\n",
      "/home/diego/Proyecto Vivero/train2/salida392.tif\n",
      "/home/diego/Proyecto Vivero/train2/salida393.tif\n",
      "/home/diego/Proyecto Vivero/train2/salida394.tif\n",
      "/home/diego/Proyecto Vivero/train2/salida395.tif\n",
      "/home/diego/Proyecto Vivero/train2/salida396.tif\n",
      "/home/diego/Proyecto Vivero/train2/salida397.tif\n",
      "/home/diego/Proyecto Vivero/train2/salida398.tif\n",
      "/home/diego/Proyecto Vivero/train2/salida399.tif\n",
      "/home/diego/Proyecto Vivero/train2/salida400.tif\n",
      "/home/diego/Proyecto Vivero/train2/salida401.tif\n",
      "/home/diego/Proyecto Vivero/train2/salida402.tif\n",
      "/home/diego/Proyecto Vivero/train2/salida403.tif\n",
      "/home/diego/Proyecto Vivero/train2/salida404.tif\n",
      "/home/diego/Proyecto Vivero/train2/salida405.tif\n",
      "/home/diego/Proyecto Vivero/train2/salida406.tif\n",
      "/home/diego/Proyecto Vivero/train2/salida407.tif\n",
      "/home/diego/Proyecto Vivero/train2/salida408.tif\n",
      "/home/diego/Proyecto Vivero/train2/salida409.tif\n",
      "/home/diego/Proyecto Vivero/train2/salida410.tif\n",
      "/home/diego/Proyecto Vivero/train2/salida411.tif\n",
      "/home/diego/Proyecto Vivero/train2/salida412.tif\n",
      "/home/diego/Proyecto Vivero/train2/salida413.tif\n",
      "/home/diego/Proyecto Vivero/train2/salida414.tif\n",
      "/home/diego/Proyecto Vivero/train2/salida415.tif\n",
      "/home/diego/Proyecto Vivero/train2/salida416.tif\n"
     ]
    },
    {
     "name": "stderr",
     "output_type": "stream",
     "text": [
      "Clipping input data to the valid range for imshow with RGB data ([0..1] for floats or [0..255] for integers).\n",
      "Clipping input data to the valid range for imshow with RGB data ([0..1] for floats or [0..255] for integers).\n"
     ]
    },
    {
     "name": "stdout",
     "output_type": "stream",
     "text": [
      "False    40122\n",
      "dtype: int64\n",
      "False    40122\n",
      "dtype: int64\n"
     ]
    },
    {
     "name": "stderr",
     "output_type": "stream",
     "text": [
      "Clipping input data to the valid range for imshow with RGB data ([0..1] for floats or [0..255] for integers).\n",
      "Clipping input data to the valid range for imshow with RGB data ([0..1] for floats or [0..255] for integers).\n"
     ]
    },
    {
     "name": "stdout",
     "output_type": "stream",
     "text": [
      "False    40122\n",
      "dtype: int64\n",
      "False    40122\n",
      "dtype: int64\n"
     ]
    },
    {
     "name": "stderr",
     "output_type": "stream",
     "text": [
      "Clipping input data to the valid range for imshow with RGB data ([0..1] for floats or [0..255] for integers).\n",
      "Clipping input data to the valid range for imshow with RGB data ([0..1] for floats or [0..255] for integers).\n"
     ]
    },
    {
     "name": "stdout",
     "output_type": "stream",
     "text": [
      "False    40122\n",
      "dtype: int64\n",
      "False    40122\n",
      "dtype: int64\n"
     ]
    },
    {
     "name": "stderr",
     "output_type": "stream",
     "text": [
      "Clipping input data to the valid range for imshow with RGB data ([0..1] for floats or [0..255] for integers).\n",
      "Clipping input data to the valid range for imshow with RGB data ([0..1] for floats or [0..255] for integers).\n"
     ]
    },
    {
     "name": "stdout",
     "output_type": "stream",
     "text": [
      "False    40122\n",
      "dtype: int64\n",
      "False    40122\n",
      "dtype: int64\n"
     ]
    },
    {
     "ename": "KeyboardInterrupt",
     "evalue": "",
     "output_type": "error",
     "traceback": [
      "\u001b[0;31m---------------------------------------------------------------------------\u001b[0m",
      "\u001b[0;31mKeyboardInterrupt\u001b[0m                         Traceback (most recent call last)",
      "\u001b[0;32m<ipython-input-14-744434a848d2>\u001b[0m in \u001b[0;36m<module>\u001b[0;34m\u001b[0m\n\u001b[1;32m     27\u001b[0m \u001b[0;34m\u001b[0m\u001b[0m\n\u001b[1;32m     28\u001b[0m     \u001b[0;31m#interseccion ptos\u001b[0m\u001b[0;34m\u001b[0m\u001b[0;34m\u001b[0m\u001b[0;34m\u001b[0m\u001b[0m\n\u001b[0;32m---> 29\u001b[0;31m         \u001b[0mcantidad\u001b[0m\u001b[0;34m=\u001b[0m\u001b[0mpuntos\u001b[0m\u001b[0;34m[\u001b[0m\u001b[0;34m\"geometry\"\u001b[0m\u001b[0;34m]\u001b[0m\u001b[0;34m.\u001b[0m\u001b[0mintersects\u001b[0m\u001b[0;34m(\u001b[0m\u001b[0mbbox\u001b[0m\u001b[0;34m)\u001b[0m\u001b[0;34m.\u001b[0m\u001b[0mvalue_counts\u001b[0m\u001b[0;34m(\u001b[0m\u001b[0;34m)\u001b[0m\u001b[0;34m\u001b[0m\u001b[0;34m\u001b[0m\u001b[0m\n\u001b[0m\u001b[1;32m     30\u001b[0m         \u001b[0mprint\u001b[0m\u001b[0;34m(\u001b[0m\u001b[0mcantidad\u001b[0m\u001b[0;34m)\u001b[0m\u001b[0;34m\u001b[0m\u001b[0;34m\u001b[0m\u001b[0m\n\u001b[1;32m     31\u001b[0m         \u001b[0;32mif\u001b[0m \u001b[0;34m(\u001b[0m\u001b[0;32mTrue\u001b[0m \u001b[0;32min\u001b[0m \u001b[0mcantidad\u001b[0m\u001b[0;34m.\u001b[0m\u001b[0mindex\u001b[0m\u001b[0;34m)\u001b[0m\u001b[0;34m:\u001b[0m\u001b[0;34m\u001b[0m\u001b[0;34m\u001b[0m\u001b[0m\n",
      "\u001b[0;32m~/anaconda3/envs/plantas/lib/python3.6/site-packages/pandas/core/base.py\u001b[0m in \u001b[0;36mvalue_counts\u001b[0;34m(self, normalize, sort, ascending, bins, dropna)\u001b[0m\n\u001b[1;32m   1301\u001b[0m         \u001b[0;32mfrom\u001b[0m \u001b[0mpandas\u001b[0m\u001b[0;34m.\u001b[0m\u001b[0mcore\u001b[0m\u001b[0;34m.\u001b[0m\u001b[0malgorithms\u001b[0m \u001b[0;32mimport\u001b[0m \u001b[0mvalue_counts\u001b[0m\u001b[0;34m\u001b[0m\u001b[0;34m\u001b[0m\u001b[0m\n\u001b[1;32m   1302\u001b[0m         result = value_counts(self, sort=sort, ascending=ascending,\n\u001b[0;32m-> 1303\u001b[0;31m                               normalize=normalize, bins=bins, dropna=dropna)\n\u001b[0m\u001b[1;32m   1304\u001b[0m         \u001b[0;32mreturn\u001b[0m \u001b[0mresult\u001b[0m\u001b[0;34m\u001b[0m\u001b[0;34m\u001b[0m\u001b[0m\n\u001b[1;32m   1305\u001b[0m \u001b[0;34m\u001b[0m\u001b[0m\n",
      "\u001b[0;32m~/anaconda3/envs/plantas/lib/python3.6/site-packages/pandas/core/algorithms.py\u001b[0m in \u001b[0;36mvalue_counts\u001b[0;34m(values, sort, ascending, normalize, bins, dropna)\u001b[0m\n\u001b[1;32m    697\u001b[0m \u001b[0;34m\u001b[0m\u001b[0m\n\u001b[1;32m    698\u001b[0m         \u001b[0;32melse\u001b[0m\u001b[0;34m:\u001b[0m\u001b[0;34m\u001b[0m\u001b[0;34m\u001b[0m\u001b[0m\n\u001b[0;32m--> 699\u001b[0;31m             \u001b[0mkeys\u001b[0m\u001b[0;34m,\u001b[0m \u001b[0mcounts\u001b[0m \u001b[0;34m=\u001b[0m \u001b[0m_value_counts_arraylike\u001b[0m\u001b[0;34m(\u001b[0m\u001b[0mvalues\u001b[0m\u001b[0;34m,\u001b[0m \u001b[0mdropna\u001b[0m\u001b[0;34m)\u001b[0m\u001b[0;34m\u001b[0m\u001b[0;34m\u001b[0m\u001b[0m\n\u001b[0m\u001b[1;32m    700\u001b[0m \u001b[0;34m\u001b[0m\u001b[0m\n\u001b[1;32m    701\u001b[0m             \u001b[0;32mif\u001b[0m \u001b[0;32mnot\u001b[0m \u001b[0misinstance\u001b[0m\u001b[0;34m(\u001b[0m\u001b[0mkeys\u001b[0m\u001b[0;34m,\u001b[0m \u001b[0mIndex\u001b[0m\u001b[0;34m)\u001b[0m\u001b[0;34m:\u001b[0m\u001b[0;34m\u001b[0m\u001b[0;34m\u001b[0m\u001b[0m\n",
      "\u001b[0;32m~/anaconda3/envs/plantas/lib/python3.6/site-packages/pandas/core/algorithms.py\u001b[0m in \u001b[0;36m_value_counts_arraylike\u001b[0;34m(values, dropna)\u001b[0m\n\u001b[1;32m    742\u001b[0m         \u001b[0;31m# TODO: handle uint8\u001b[0m\u001b[0;34m\u001b[0m\u001b[0;34m\u001b[0m\u001b[0;34m\u001b[0m\u001b[0m\n\u001b[1;32m    743\u001b[0m         \u001b[0mf\u001b[0m \u001b[0;34m=\u001b[0m \u001b[0mgetattr\u001b[0m\u001b[0;34m(\u001b[0m\u001b[0mhtable\u001b[0m\u001b[0;34m,\u001b[0m \u001b[0;34m\"value_count_{dtype}\"\u001b[0m\u001b[0;34m.\u001b[0m\u001b[0mformat\u001b[0m\u001b[0;34m(\u001b[0m\u001b[0mdtype\u001b[0m\u001b[0;34m=\u001b[0m\u001b[0mndtype\u001b[0m\u001b[0;34m)\u001b[0m\u001b[0;34m)\u001b[0m\u001b[0;34m\u001b[0m\u001b[0;34m\u001b[0m\u001b[0m\n\u001b[0;32m--> 744\u001b[0;31m         \u001b[0mkeys\u001b[0m\u001b[0;34m,\u001b[0m \u001b[0mcounts\u001b[0m \u001b[0;34m=\u001b[0m \u001b[0mf\u001b[0m\u001b[0;34m(\u001b[0m\u001b[0mvalues\u001b[0m\u001b[0;34m,\u001b[0m \u001b[0mdropna\u001b[0m\u001b[0;34m)\u001b[0m\u001b[0;34m\u001b[0m\u001b[0;34m\u001b[0m\u001b[0m\n\u001b[0m\u001b[1;32m    745\u001b[0m \u001b[0;34m\u001b[0m\u001b[0m\n\u001b[1;32m    746\u001b[0m         \u001b[0mmask\u001b[0m \u001b[0;34m=\u001b[0m \u001b[0misna\u001b[0m\u001b[0;34m(\u001b[0m\u001b[0mvalues\u001b[0m\u001b[0;34m)\u001b[0m\u001b[0;34m\u001b[0m\u001b[0;34m\u001b[0m\u001b[0m\n",
      "\u001b[0;32mpandas/_libs/hashtable_func_helper.pxi\u001b[0m in \u001b[0;36mpandas._libs.hashtable.value_count_uint64\u001b[0;34m()\u001b[0m\n",
      "\u001b[0;32mpandas/_libs/hashtable_func_helper.pxi\u001b[0m in \u001b[0;36mpandas._libs.hashtable.value_count_uint64\u001b[0;34m()\u001b[0m\n",
      "\u001b[0;32m~/anaconda3/envs/plantas/lib/python3.6/site-packages/numpy/core/numeric.py\u001b[0m in \u001b[0;36masarray\u001b[0;34m(a, dtype, order)\u001b[0m\n\u001b[1;32m    467\u001b[0m \u001b[0;34m\u001b[0m\u001b[0m\n\u001b[1;32m    468\u001b[0m \u001b[0;34m\u001b[0m\u001b[0m\n\u001b[0;32m--> 469\u001b[0;31m \u001b[0;34m@\u001b[0m\u001b[0mset_module\u001b[0m\u001b[0;34m(\u001b[0m\u001b[0;34m'numpy'\u001b[0m\u001b[0;34m)\u001b[0m\u001b[0;34m\u001b[0m\u001b[0;34m\u001b[0m\u001b[0m\n\u001b[0m\u001b[1;32m    470\u001b[0m \u001b[0;32mdef\u001b[0m \u001b[0masarray\u001b[0m\u001b[0;34m(\u001b[0m\u001b[0ma\u001b[0m\u001b[0;34m,\u001b[0m \u001b[0mdtype\u001b[0m\u001b[0;34m=\u001b[0m\u001b[0;32mNone\u001b[0m\u001b[0;34m,\u001b[0m \u001b[0morder\u001b[0m\u001b[0;34m=\u001b[0m\u001b[0;32mNone\u001b[0m\u001b[0;34m)\u001b[0m\u001b[0;34m:\u001b[0m\u001b[0;34m\u001b[0m\u001b[0;34m\u001b[0m\u001b[0m\n\u001b[1;32m    471\u001b[0m     \"\"\"Convert the input to an array.\n",
      "\u001b[0;31mKeyboardInterrupt\u001b[0m: "
     ]
    }
   ],
   "source": [
    "contador = 0\n",
    "while (1):\n",
    "        # finalizar si se a recorrido toda la imagen\n",
    "    if(offsetY >= raster.height and offsetX >= raster.width):\n",
    "        break\n",
    "     #cuando llegue al borde en el eje x, debo bajar(sumar en eje y) y debo volver a empezar setear offsetX en 0 y widthX en 100\n",
    "    elif(offsetX >= raster.width):\n",
    "        offsetY = offsetY + step\n",
    "        offsetX = 0\n",
    "   \n",
    "    #entregamos los pixeles para obtener las coordenadas\n",
    "    t = raster.xy(offsetX, offsetY)\n",
    "    l = raster.xy(offsetX + width , offsetY)\n",
    "    r = raster.xy(offsetX, offsetY + height)\n",
    "    b = raster.xy(offsetX + width , offsetY + height)  \n",
    "    bbox = box(l[0], b[1], r[0], t[1])\n",
    "        \n",
    "    try:\n",
    "        #transformacion de la imagen\n",
    "        out_img, out_transform = mask(raster, shapes=[bbox], crop=True)\n",
    "        valores = np.unique(out_img)\n",
    "        # si solo se tiene valores NODATA en la imagen, la descartamos\n",
    "        if np.array_equal(valores,[65535]):\n",
    "            offsetX = offsetX + step\n",
    "            contador = contador + 1\n",
    "            continue\n",
    "            \n",
    "        matplotlib.image.imsave('{}/salida{}.png'.format(url_salida,contador), out_img.T)\n",
    "\n",
    "    #interseccion ptos\n",
    "        cantidad=puntos[\"geometry\"].intersects(bbox).value_counts()\n",
    "        print(cantidad)\n",
    "        if (True in cantidad.index):\n",
    "            numero = cantidad[True]\n",
    "        else:\n",
    "            numero = 0\n",
    "        cuentas.loc[contador] = [\"salida\"+str(contador)+\".png\",numero]\n",
    "        if(contador%1000 == 0):\n",
    "            print(\"salida\"+str(contador)+\".png\")\n",
    "\n",
    "        \n",
    "    except ValueError:\n",
    "        print(url_salida+\"/salida\"+str(contador)+\".pngtif\")\n",
    "#         print(coords)\n",
    "    contador = contador + 1\n",
    "    offsetX = offsetX + step \n",
    "   "
   ]
  },
  {
   "cell_type": "code",
   "execution_count": 51,
   "metadata": {
    "scrolled": true
   },
   "outputs": [],
   "source": [
    "cuentas.to_csv(url_salida+\"/cuentas.csv\")"
   ]
  }
 ],
 "metadata": {
  "kernelspec": {
   "display_name": "Python 3",
   "language": "python",
   "name": "python3"
  },
  "language_info": {
   "codemirror_mode": {
    "name": "ipython",
    "version": 3
   },
   "file_extension": ".py",
   "mimetype": "text/x-python",
   "name": "python",
   "nbconvert_exporter": "python",
   "pygments_lexer": "ipython3",
   "version": "3.6.8"
  }
 },
 "nbformat": 4,
 "nbformat_minor": 2
}
