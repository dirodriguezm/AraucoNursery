{
 "cells": [
  {
   "cell_type": "code",
   "execution_count": 18,
   "metadata": {},
   "outputs": [],
   "source": [
    "%matplotlib inline\n",
    "# %matplotlib notebook\n",
    "import rasterio\n",
    "from shapely.geometry import box\n",
    "import geopandas as gpd\n",
    "from rasterio.mask import mask\n",
    "import pandas as pd\n",
    "import numpy as np\n",
    "import matplotlib\n",
    "import cv2\n"
   ]
  },
  {
   "cell_type": "code",
   "execution_count": 2,
   "metadata": {},
   "outputs": [],
   "source": [
    "# url_imagen = '/home/diego/Proyecto Vivero/data/01_VIVERO/01_imagenes/imagen_mesones_rgb.tif'\n",
    "# shp = '/home/diego/Proyecto Vivero/data/01_VIVERO/02_puntos_plantas/plantas_mesones_2.shp'\n",
    "# url_salida = \"/home/diego/Proyecto Vivero/train2\"\n",
    "url_imagen = 'D:/Memoria/Codigo/AraucoNursery/PROYECTOS/VIVERO/imagenes/imagen_mesones_rgb.tif'\n",
    "shp = 'D:/Memoria/Codigo/AraucoNursery/PROYECTOS/VIVERO/puntos_plantas/plantas_mesones_2.shp'\n",
    "url_salida = \"D:/Memoria/Codigo/AraucoNursery/train\""
   ]
  },
  {
   "cell_type": "code",
   "execution_count": 22,
   "metadata": {},
   "outputs": [],
   "source": [
    "def get_gaussian_kernel(fs_x, fs_y, sigma):\n",
    "    \"\"\"\n",
    "    Create a 2D gaussian kernel\n",
    "    :param fs_x: filter width along x axis\n",
    "    :param fs_y: filter width along y axis\n",
    "    :param sigma: gaussian width\n",
    "    :return: 2D Gaussian filter of [fs_y x fs_x] dimension\n",
    "    \"\"\"\n",
    "    gaussian_kernel_x = cv2.getGaussianKernel(ksize=np.int(fs_x), sigma=sigma)\n",
    "    gaussian_kernel_y = cv2.getGaussianKernel(ksize=np.int(fs_y), sigma=sigma)\n",
    "    gaussian_kernel = gaussian_kernel_y * gaussian_kernel_x.T\n",
    "    return gaussian_kernel"
   ]
  },
  {
   "cell_type": "code",
   "execution_count": 76,
   "metadata": {},
   "outputs": [],
   "source": [
    "def get_density_map_gaussian(points, d_map_h, d_map_w):\n",
    "    \"\"\"\n",
    "    Creates density maps from ground truth point locations\n",
    "    :param points: [x,y] x: along width, y: along height\n",
    "    :param d_map_h: height of the density map\n",
    "    :param d_map_w: width of the density map\n",
    "    :return: density map\n",
    "    \"\"\"\n",
    "\n",
    "    im_density = np.zeros(shape=(d_map_h,d_map_w), dtype=np.float32)\n",
    "\n",
    "    if np.shape(points)[0] == 0:\n",
    "        sys.exit()\n",
    "    for i in range(np.shape(points)[0]):\n",
    "\n",
    "        f_sz = 15\n",
    "        sigma = 4\n",
    "\n",
    "        gaussian_kernel = get_gaussian_kernel(f_sz, f_sz, sigma)\n",
    "\n",
    "        x = min(d_map_w, max(1, np.abs(np.int32(np.floor(points[i][0])))))\n",
    "        y = min(d_map_h, max(1, np.abs(np.int32(np.floor(points[i][1])))))\n",
    "\n",
    "        if(x > d_map_w or y > d_map_h):\n",
    "            continue\n",
    "\n",
    "        x1 = x - np.int32(np.floor(f_sz / 2))\n",
    "        y1 = y - np.int32(np.floor(f_sz / 2))\n",
    "        x2 = x + np.int32(np.floor(f_sz / 2))\n",
    "        y2 = y + np.int32(np.floor(f_sz / 2))\n",
    "\n",
    "        dfx1 = 0\n",
    "        dfy1 = 0\n",
    "        dfx2 = 0\n",
    "        dfy2 = 0\n",
    "\n",
    "        change_H = False\n",
    "\n",
    "        if(x1 < 1):\n",
    "            dfx1 = np.abs(x1)+1\n",
    "            x1 = 1\n",
    "            change_H = True\n",
    "\n",
    "        if(y1 < 1):\n",
    "            dfy1 = np.abs(y1)+1\n",
    "            y1 = 1\n",
    "            change_H = True\n",
    "\n",
    "        if(x2 > d_map_w):\n",
    "            dfx2 = x2 - d_map_w\n",
    "            x2 = d_map_w\n",
    "            change_H = True\n",
    "\n",
    "        if(y2 > d_map_h):\n",
    "            dfy2 = y2 - d_map_h\n",
    "            y2 = d_map_h\n",
    "            change_H = True\n",
    "\n",
    "        x1h = 1+dfx1\n",
    "        y1h = 1+dfy1\n",
    "        x2h = f_sz - dfx2\n",
    "        y2h = f_sz - dfy2\n",
    "\n",
    "        if (change_H == True):\n",
    "            f_sz_y = np.double(y2h - y1h + 1)\n",
    "            f_sz_x = np.double(x2h - x1h + 1)\n",
    "\n",
    "            gaussian_kernel = get_gaussian_kernel(f_sz_x, f_sz_y, sigma)\n",
    "\n",
    "        im_density[y1-1:y2,x1-1:x2] = im_density[y1-1:y2,x1-1:x2] +  gaussian_kernel\n",
    "    return im_density"
   ]
  },
  {
   "cell_type": "code",
   "execution_count": 77,
   "metadata": {},
   "outputs": [],
   "source": [
    "def get_coordenadas(raster,puntos,url_salida,nombre):\n",
    "    pixeles = pd.DataFrame(columns=['x', 'y'])\n",
    "    for index in range(puntos.shape[0]):\n",
    "        pl = raster.index(puntos[\"geometry\"][index].bounds[0],puntos[\"geometry\"][index].bounds[1])\n",
    "        pixeles.loc[index] = [pl[0],pl[1]]\n",
    "    \n",
    "    pixeles.to_csv(url_salida+\"/\"+nombre+\".csv\")\n",
    "    return pixeles\n",
    "        "
   ]
  },
  {
   "cell_type": "code",
   "execution_count": 78,
   "metadata": {},
   "outputs": [],
   "source": [
    "puntos = gpd.read_file(shp)\n",
    "raster = rasterio.open(url_imagen)"
   ]
  },
  {
   "cell_type": "code",
   "execution_count": 79,
   "metadata": {},
   "outputs": [],
   "source": [
    "offsetX = 0\n",
    "offsetY = 0\n",
    "width = 100\n",
    "height = 100\n",
    "step = 100\n"
   ]
  },
  {
   "cell_type": "code",
   "execution_count": 80,
   "metadata": {},
   "outputs": [],
   "source": [
    "csv = get_coordenadas(raster,puntos,url_salida,\"pixeles\")"
   ]
  },
  {
   "cell_type": "code",
   "execution_count": 81,
   "metadata": {},
   "outputs": [],
   "source": [
    "coordenadas = []\n",
    "for element in range(csv.shape[0]):\n",
    "#     print(csv[\"x\"][element],csv[\"y\"][element])\n",
    "    coordenadas.append([csv[\"x\"][element],csv[\"y\"][element]])"
   ]
  },
  {
   "cell_type": "code",
   "execution_count": 89,
   "metadata": {},
   "outputs": [],
   "source": [
    "mapa_densidad = get_density_map_gaussian(coordenadas,raster.height,raster.width)"
   ]
  },
  {
   "cell_type": "code",
   "execution_count": 92,
   "metadata": {},
   "outputs": [],
   "source": [
    "# unique, counts = np.unique(mapa_densidad, return_counts=True)\n",
    "# dict(zip(unique, counts))"
   ]
  },
  {
   "cell_type": "code",
   "execution_count": 95,
   "metadata": {},
   "outputs": [
    {
     "name": "stdout",
     "output_type": "stream",
     "text": [
      "(1823, 2488) (1823, 2488)\n"
     ]
    }
   ],
   "source": [
    "print(raster.shape,mapa_densidad.shape)"
   ]
  },
  {
   "cell_type": "code",
   "execution_count": 96,
   "metadata": {},
   "outputs": [
    {
     "data": {
      "text/plain": [
       "numpy.ndarray"
      ]
     },
     "execution_count": 96,
     "metadata": {},
     "output_type": "execute_result"
    }
   ],
   "source": [
    "type(mapa_densidad)"
   ]
  },
  {
   "cell_type": "code",
   "execution_count": null,
   "metadata": {},
   "outputs": [],
   "source": []
  }
 ],
 "metadata": {
  "kernelspec": {
   "display_name": "Python 3",
   "language": "python",
   "name": "python3"
  },
  "language_info": {
   "codemirror_mode": {
    "name": "ipython",
    "version": 3
   },
   "file_extension": ".py",
   "mimetype": "text/x-python",
   "name": "python",
   "nbconvert_exporter": "python",
   "pygments_lexer": "ipython3",
   "version": "3.6.8"
  }
 },
 "nbformat": 4,
 "nbformat_minor": 2
}
