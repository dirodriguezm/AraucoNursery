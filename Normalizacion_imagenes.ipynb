{
 "cells": [
  {
   "cell_type": "code",
   "execution_count": 1,
   "metadata": {},
   "outputs": [],
   "source": [
    "import glob\n",
    "import h5py\n",
    "import numpy as np\n",
    "from PIL import Image\n",
    "from os import listdir\n",
    "import os\n",
    "import matplotlib.pylab as plb\n",
    "import pandas as pd"
   ]
  },
  {
   "cell_type": "code",
   "execution_count": 2,
   "metadata": {},
   "outputs": [],
   "source": [
    "def normalize(arr):\n",
    "    \"\"\"\n",
    "    Linear normalization\n",
    "    http://en.wikipedia.org/wiki/Normalization_%28image_processing%29\n",
    "    \"\"\"\n",
    "    # Do not touch the alpha channel\n",
    "    for i in range(3):\n",
    "        minval = arr[...,i].min()\n",
    "        maxval = arr[...,i].max()\n",
    "        if minval != maxval:\n",
    "            arr[...,i] -= minval\n",
    "            np.multiply(arr[...,i], (255.0/(maxval-minval)), out=arr[...,i], casting='unsafe')\n",
    "#             arr[...,i] *= (255.0/(maxval-minval))\n",
    "    return arr"
   ]
  },
  {
   "cell_type": "code",
   "execution_count": 3,
   "metadata": {},
   "outputs": [],
   "source": [
    "entrada = 'D:/Memoria/Codigo/AraucoNursery/train/'\n",
    "salida =  'D:/Memoria/Codigo/AraucoNursery/train_normalizado/'\n",
    "directorio = 'D:/Memoria/Codigo/AraucoNursery/'\n",
    "csv = 'D:/Memoria/Codigo/AraucoNursery/cuentas.csv'"
   ]
  },
  {
   "cell_type": "code",
   "execution_count": 4,
   "metadata": {},
   "outputs": [],
   "source": [
    "onlyfiles = [f for f in listdir(entrada) if os.path.isfile(os.path.join(entrada, f))]\n",
    "etiquetas = pd.read_csv(csv)\n",
    "hf = h5py.File(directorio+'data.h5', 'w')"
   ]
  },
  {
   "cell_type": "code",
   "execution_count": 5,
   "metadata": {},
   "outputs": [],
   "source": [
    "# #atributos para el hdf5\n",
    "# NUM_IMAGES = len(onlyfiles)\n",
    "# HEIGHT = 101\n",
    "# WIDTH = 101\n",
    "# CHANNELS = 3\n",
    "# SHAPE = (HEIGHT, WIDTH, CHANNELS)"
   ]
  },
  {
   "cell_type": "code",
   "execution_count": 6,
   "metadata": {},
   "outputs": [],
   "source": [
    "lista_imagenes = []\n",
    "lista_etiquetas = []"
   ]
  },
  {
   "cell_type": "code",
   "execution_count": 7,
   "metadata": {},
   "outputs": [],
   "source": [
    "contador = 0\n",
    "for im_path in glob.glob(entrada+\"*.png\"):\n",
    "    nombre_archivo = im_path.replace(entrada[0:-1],'')[1:]\n",
    "    \n",
    "    #normalizacion de la imagen\n",
    "    img = Image.open(im_path).convert('RGB')\n",
    "    a = np.array(img)\n",
    "#     b = normalize(a)\n",
    "#     print(type(b))\n",
    "#     im = Image.fromarray(b)\n",
    "    lista_imagenes.append(a)\n",
    "   \n",
    "    # guardamos el png\n",
    "#     im.save(salida+str(contador)+'.png')\n",
    "    \n",
    "    #guardamos las imagenes\n",
    "#     Xset = hf.create_dataset(\n",
    "#         name= \"I\" + str(contador),\n",
    "#         data=im,\n",
    "#         shape=(HEIGHT, WIDTH, CHANNELS),\n",
    "#         maxshape=(HEIGHT, WIDTH, CHANNELS),\n",
    "#         compression=\"gzip\",\n",
    "#         compression_opts=9)\n",
    "#     print(nombre_archivo)\n",
    "    \n",
    "    #guardamos las etiquetas\n",
    "#     yset = hf.create_dataset(\n",
    "#                 name = \"L\" + str(contador),\n",
    "#                 shape=(1,),\n",
    "#                 maxshape=(None,),\n",
    "#                 compression=\"gzip\",\n",
    "#                 compression_opts=9)\n",
    "    yset = etiquetas[etiquetas.imagen == nombre_archivo][\"cant_arboles\"].values[0]\n",
    "    lista_etiquetas.append(yset)\n",
    "#     print(valor)\n",
    "    contador +=1\n",
    "# hf.close()"
   ]
  },
  {
   "cell_type": "code",
   "execution_count": 9,
   "metadata": {},
   "outputs": [],
   "source": [
    "n_lista_imagenes = len(lista_imagenes)\n",
    "n_lista_etiquetas = len(lista_etiquetas)\n",
    "\n",
    "lista_imagenes = np.array(lista_imagenes)\n",
    "lista_etiquetas = np.array(lista_etiquetas)"
   ]
  },
  {
   "cell_type": "code",
   "execution_count": 11,
   "metadata": {},
   "outputs": [],
   "source": [
    "Xset = hf.create_dataset(\n",
    "        name= \"images\",\n",
    "        data=lista_imagenes,\n",
    "        shape=(n_lista_imagenes,HEIGHT, WIDTH, CHANNELS),\n",
    "        compression=\"gzip\",\n",
    "        compression_opts=9)"
   ]
  },
  {
   "cell_type": "code",
   "execution_count": 14,
   "metadata": {},
   "outputs": [],
   "source": [
    "Yset = hf.create_dataset(\n",
    "        name= \"counts\",\n",
    "        data=lista_etiquetas,\n",
    "        shape=(n_lista_etiquetas,),\n",
    "        compression=\"gzip\",\n",
    "        compression_opts=9)"
   ]
  },
  {
   "cell_type": "code",
   "execution_count": 15,
   "metadata": {},
   "outputs": [],
   "source": [
    "hf.close()"
   ]
  },
  {
   "cell_type": "code",
   "execution_count": 16,
   "metadata": {},
   "outputs": [],
   "source": [
    "archivo_h5='D:\\Memoria\\Codigo\\AraucoNursery\\data.h5'"
   ]
  },
  {
   "cell_type": "code",
   "execution_count": 38,
   "metadata": {},
   "outputs": [
    {
     "name": "stdout",
     "output_type": "stream",
     "text": [
      "KeysView(<HDF5 file \"data.h5\" (mode r)>)\n",
      "['counts', 'images']\n",
      "<class 'numpy.ndarray'>\n",
      "<class 'numpy.int64'>\n"
     ]
    }
   ],
   "source": [
    "with h5py.File(archivo_h5, 'r') as hf:\n",
    "    print(hf.keys())\n",
    "    a_group_key = list(hf.keys())\n",
    "    print(a_group_key)\n",
    "    print(type(hf[\"images\"][0]))\n",
    "    print(type(hf[\"counts\"][0]))\n",
    "   "
   ]
  }
 ],
 "metadata": {
  "kernelspec": {
   "display_name": "Python 3",
   "language": "python",
   "name": "python3"
  },
  "language_info": {
   "codemirror_mode": {
    "name": "ipython",
    "version": 3
   },
   "file_extension": ".py",
   "mimetype": "text/x-python",
   "name": "python",
   "nbconvert_exporter": "python",
   "pygments_lexer": "ipython3",
   "version": "3.6.8"
  }
 },
 "nbformat": 4,
 "nbformat_minor": 2
}
