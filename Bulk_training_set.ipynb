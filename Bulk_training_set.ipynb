{
 "cells": [
  {
   "cell_type": "code",
   "execution_count": 8,
   "metadata": {},
   "outputs": [],
   "source": [
    "%matplotlib inline\n",
    "# %matplotlib notebook\n",
    "import rasterio\n",
    "from rasterio.coords import BoundingBox\n",
    "from shapely.geometry import box\n",
    "import geopandas as gpd\n",
    "from rasterio.mask import mask\n",
    "import os\n",
    "import pandas as pd"
   ]
  },
  {
   "cell_type": "code",
   "execution_count": 9,
   "metadata": {},
   "outputs": [],
   "source": [
    "url_imagen = 'D:\\Memoria\\Codigo\\AraucoNursery\\PROYECTOS\\VIVERO\\imagenes\\imagen_mesones_rgb.tif'\n",
    "shp = 'D:\\Memoria\\Codigo\\AraucoNursery\\PROYECTOS\\VIVERO\\puntos_plantas\\plantas_mesones_2.shp'"
   ]
  },
  {
   "cell_type": "code",
   "execution_count": 10,
   "metadata": {},
   "outputs": [],
   "source": [
    "shape = gpd.read_file(shp)"
   ]
  },
  {
   "cell_type": "code",
   "execution_count": 11,
   "metadata": {},
   "outputs": [],
   "source": [
    "raster = rasterio.open(url_imagen)"
   ]
  },
  {
   "cell_type": "code",
   "execution_count": 12,
   "metadata": {},
   "outputs": [],
   "source": [
    "offsetX = 0\n",
    "offsetY = 0\n",
    "widthX = 100\n",
    "widthY = 100\n",
    "step = 10\n",
    "cuentas = pd.DataFrame(columns=['imagen', 'cant_arboles'])"
   ]
  },
  {
   "cell_type": "code",
   "execution_count": 13,
   "metadata": {},
   "outputs": [],
   "source": [
    "def getFeatures(gdf):\n",
    "    \"\"\"Function to parse features from GeoDataFrame in such a manner that rasterio wants them\"\"\"\n",
    "    import json\n",
    "    return [json.loads(gdf.to_json())['features'][0]['geometry']]"
   ]
  },
  {
   "cell_type": "code",
   "execution_count": 18,
   "metadata": {},
   "outputs": [
    {
     "name": "stdout",
     "output_type": "stream",
     "text": [
      "salida0.tif\n",
      "salida1000.tif\n",
      "salida2000.tif\n",
      "salida3000.tif\n",
      "salida4000.tif\n",
      "salida5000.tif\n",
      "salida6000.tif\n",
      "salida7000.tif\n",
      "salida8000.tif\n"
     ]
    },
    {
     "ename": "KeyboardInterrupt",
     "evalue": "",
     "output_type": "error",
     "traceback": [
      "\u001b[1;31m---------------------------------------------------------------------------\u001b[0m",
      "\u001b[1;31mKeyboardInterrupt\u001b[0m                         Traceback (most recent call last)",
      "\u001b[1;32m<ipython-input-18-97df92057f66>\u001b[0m in \u001b[0;36m<module>\u001b[1;34m\u001b[0m\n\u001b[0;32m     38\u001b[0m \u001b[1;31m#         print(type(geo))\u001b[0m\u001b[1;33m\u001b[0m\u001b[1;33m\u001b[0m\u001b[1;33m\u001b[0m\u001b[0m\n\u001b[0;32m     39\u001b[0m     \u001b[1;31m#interseccion ptos\u001b[0m\u001b[1;33m\u001b[0m\u001b[1;33m\u001b[0m\u001b[1;33m\u001b[0m\u001b[0m\n\u001b[1;32m---> 40\u001b[1;33m         \u001b[0mcantidad\u001b[0m\u001b[1;33m=\u001b[0m\u001b[0mgeo\u001b[0m\u001b[1;33m.\u001b[0m\u001b[0mintersects\u001b[0m\u001b[1;33m(\u001b[0m\u001b[0mshape\u001b[0m\u001b[1;33m)\u001b[0m\u001b[1;33m.\u001b[0m\u001b[0mvalue_counts\u001b[0m\u001b[1;33m(\u001b[0m\u001b[1;33m)\u001b[0m\u001b[1;33m\u001b[0m\u001b[1;33m\u001b[0m\u001b[0m\n\u001b[0m\u001b[0;32m     41\u001b[0m         \u001b[1;32mif\u001b[0m \u001b[1;33m(\u001b[0m\u001b[1;32mTrue\u001b[0m \u001b[1;32min\u001b[0m \u001b[0mcantidad\u001b[0m\u001b[1;33m.\u001b[0m\u001b[0mindex\u001b[0m\u001b[1;33m)\u001b[0m\u001b[1;33m:\u001b[0m\u001b[1;33m\u001b[0m\u001b[1;33m\u001b[0m\u001b[0m\n\u001b[0;32m     42\u001b[0m             \u001b[0mnumero\u001b[0m \u001b[1;33m=\u001b[0m \u001b[0mcantidad\u001b[0m\u001b[1;33m[\u001b[0m\u001b[1;32mTrue\u001b[0m\u001b[1;33m]\u001b[0m\u001b[1;33m\u001b[0m\u001b[1;33m\u001b[0m\u001b[0m\n",
      "\u001b[1;32m~\\Anaconda3\\envs\\tf_gpu\\lib\\site-packages\\geopandas\\base.py\u001b[0m in \u001b[0;36mintersects\u001b[1;34m(self, other)\u001b[0m\n\u001b[0;32m    342\u001b[0m             \u001b[0mintersected\u001b[0m\u001b[1;33m.\u001b[0m\u001b[1;33m\u001b[0m\u001b[1;33m\u001b[0m\u001b[0m\n\u001b[0;32m    343\u001b[0m         \"\"\"\n\u001b[1;32m--> 344\u001b[1;33m         \u001b[1;32mreturn\u001b[0m \u001b[0m_series_op\u001b[0m\u001b[1;33m(\u001b[0m\u001b[0mself\u001b[0m\u001b[1;33m,\u001b[0m \u001b[0mother\u001b[0m\u001b[1;33m,\u001b[0m \u001b[1;34m'intersects'\u001b[0m\u001b[1;33m)\u001b[0m\u001b[1;33m\u001b[0m\u001b[1;33m\u001b[0m\u001b[0m\n\u001b[0m\u001b[0;32m    345\u001b[0m \u001b[1;33m\u001b[0m\u001b[0m\n\u001b[0;32m    346\u001b[0m     \u001b[1;32mdef\u001b[0m \u001b[0moverlaps\u001b[0m\u001b[1;33m(\u001b[0m\u001b[0mself\u001b[0m\u001b[1;33m,\u001b[0m \u001b[0mother\u001b[0m\u001b[1;33m)\u001b[0m\u001b[1;33m:\u001b[0m\u001b[1;33m\u001b[0m\u001b[1;33m\u001b[0m\u001b[0m\n",
      "\u001b[1;32m~\\Anaconda3\\envs\\tf_gpu\\lib\\site-packages\\geopandas\\base.py\u001b[0m in \u001b[0;36m_series_op\u001b[1;34m(this, other, op, **kwargs)\u001b[0m\n\u001b[0;32m     48\u001b[0m         return Series([getattr(this_elem, op)(other_elem, **kwargs)\n\u001b[0;32m     49\u001b[0m                     \u001b[1;32mif\u001b[0m \u001b[1;32mnot\u001b[0m \u001b[0mthis_elem\u001b[0m\u001b[1;33m.\u001b[0m\u001b[0mis_empty\u001b[0m \u001b[1;33m|\u001b[0m \u001b[0mother_elem\u001b[0m\u001b[1;33m.\u001b[0m\u001b[0mis_empty\u001b[0m \u001b[1;32melse\u001b[0m \u001b[0mnull_val\u001b[0m\u001b[1;33m\u001b[0m\u001b[1;33m\u001b[0m\u001b[0m\n\u001b[1;32m---> 50\u001b[1;33m                     for this_elem, other_elem in zip(this, other)],\n\u001b[0m\u001b[0;32m     51\u001b[0m                     index=this.index, dtype=np.dtype(type(null_val)))\n\u001b[0;32m     52\u001b[0m     \u001b[1;32melse\u001b[0m\u001b[1;33m:\u001b[0m\u001b[1;33m\u001b[0m\u001b[1;33m\u001b[0m\u001b[0m\n",
      "\u001b[1;32m~\\Anaconda3\\envs\\tf_gpu\\lib\\site-packages\\geopandas\\base.py\u001b[0m in \u001b[0;36m<listcomp>\u001b[1;34m(.0)\u001b[0m\n\u001b[0;32m     48\u001b[0m         return Series([getattr(this_elem, op)(other_elem, **kwargs)\n\u001b[0;32m     49\u001b[0m                     \u001b[1;32mif\u001b[0m \u001b[1;32mnot\u001b[0m \u001b[0mthis_elem\u001b[0m\u001b[1;33m.\u001b[0m\u001b[0mis_empty\u001b[0m \u001b[1;33m|\u001b[0m \u001b[0mother_elem\u001b[0m\u001b[1;33m.\u001b[0m\u001b[0mis_empty\u001b[0m \u001b[1;32melse\u001b[0m \u001b[0mnull_val\u001b[0m\u001b[1;33m\u001b[0m\u001b[1;33m\u001b[0m\u001b[0m\n\u001b[1;32m---> 50\u001b[1;33m                     for this_elem, other_elem in zip(this, other)],\n\u001b[0m\u001b[0;32m     51\u001b[0m                     index=this.index, dtype=np.dtype(type(null_val)))\n\u001b[0;32m     52\u001b[0m     \u001b[1;32melse\u001b[0m\u001b[1;33m:\u001b[0m\u001b[1;33m\u001b[0m\u001b[1;33m\u001b[0m\u001b[0m\n",
      "\u001b[1;32m~\\Anaconda3\\envs\\tf_gpu\\lib\\site-packages\\shapely\\geometry\\base.py\u001b[0m in \u001b[0;36mis_empty\u001b[1;34m(self)\u001b[0m\n\u001b[0;32m    641\u001b[0m     \u001b[1;32mdef\u001b[0m \u001b[0mis_empty\u001b[0m\u001b[1;33m(\u001b[0m\u001b[0mself\u001b[0m\u001b[1;33m)\u001b[0m\u001b[1;33m:\u001b[0m\u001b[1;33m\u001b[0m\u001b[1;33m\u001b[0m\u001b[0m\n\u001b[0;32m    642\u001b[0m         \u001b[1;34m\"\"\"True if the set of points in this geometry is empty, else False\"\"\"\u001b[0m\u001b[1;33m\u001b[0m\u001b[1;33m\u001b[0m\u001b[0m\n\u001b[1;32m--> 643\u001b[1;33m         \u001b[1;32mreturn\u001b[0m \u001b[1;33m(\u001b[0m\u001b[0mself\u001b[0m\u001b[1;33m.\u001b[0m\u001b[0m_geom\u001b[0m \u001b[1;32mis\u001b[0m \u001b[1;32mNone\u001b[0m\u001b[1;33m)\u001b[0m \u001b[1;32mor\u001b[0m \u001b[0mbool\u001b[0m\u001b[1;33m(\u001b[0m\u001b[0mself\u001b[0m\u001b[1;33m.\u001b[0m\u001b[0mimpl\u001b[0m\u001b[1;33m[\u001b[0m\u001b[1;34m'is_empty'\u001b[0m\u001b[1;33m]\u001b[0m\u001b[1;33m(\u001b[0m\u001b[0mself\u001b[0m\u001b[1;33m)\u001b[0m\u001b[1;33m)\u001b[0m\u001b[1;33m\u001b[0m\u001b[1;33m\u001b[0m\u001b[0m\n\u001b[0m\u001b[0;32m    644\u001b[0m \u001b[1;33m\u001b[0m\u001b[0m\n\u001b[0;32m    645\u001b[0m     \u001b[1;33m@\u001b[0m\u001b[0mproperty\u001b[0m\u001b[1;33m\u001b[0m\u001b[1;33m\u001b[0m\u001b[0m\n",
      "\u001b[1;32m~\\Anaconda3\\envs\\tf_gpu\\lib\\site-packages\\shapely\\predicates.py\u001b[0m in \u001b[0;36m__call__\u001b[1;34m(self, this)\u001b[0m\n\u001b[0;32m     23\u001b[0m     \u001b[1;32mdef\u001b[0m \u001b[0m__call__\u001b[0m\u001b[1;33m(\u001b[0m\u001b[0mself\u001b[0m\u001b[1;33m,\u001b[0m \u001b[0mthis\u001b[0m\u001b[1;33m)\u001b[0m\u001b[1;33m:\u001b[0m\u001b[1;33m\u001b[0m\u001b[1;33m\u001b[0m\u001b[0m\n\u001b[0;32m     24\u001b[0m         \u001b[0mself\u001b[0m\u001b[1;33m.\u001b[0m\u001b[0m_validate\u001b[0m\u001b[1;33m(\u001b[0m\u001b[0mthis\u001b[0m\u001b[1;33m)\u001b[0m\u001b[1;33m\u001b[0m\u001b[1;33m\u001b[0m\u001b[0m\n\u001b[1;32m---> 25\u001b[1;33m         \u001b[1;32mreturn\u001b[0m \u001b[0mself\u001b[0m\u001b[1;33m.\u001b[0m\u001b[0mfn\u001b[0m\u001b[1;33m(\u001b[0m\u001b[0mthis\u001b[0m\u001b[1;33m.\u001b[0m\u001b[0m_geom\u001b[0m\u001b[1;33m)\u001b[0m\u001b[1;33m\u001b[0m\u001b[1;33m\u001b[0m\u001b[0m\n\u001b[0m",
      "\u001b[1;32m~\\Anaconda3\\envs\\tf_gpu\\lib\\site-packages\\shapely\\geos.py\u001b[0m in \u001b[0;36merrcheck_predicate\u001b[1;34m(result, func, argtuple)\u001b[0m\n\u001b[0;32m    543\u001b[0m \u001b[1;33m\u001b[0m\u001b[0m\n\u001b[0;32m    544\u001b[0m \u001b[1;33m\u001b[0m\u001b[0m\n\u001b[1;32m--> 545\u001b[1;33m \u001b[1;32mdef\u001b[0m \u001b[0merrcheck_predicate\u001b[0m\u001b[1;33m(\u001b[0m\u001b[0mresult\u001b[0m\u001b[1;33m,\u001b[0m \u001b[0mfunc\u001b[0m\u001b[1;33m,\u001b[0m \u001b[0margtuple\u001b[0m\u001b[1;33m)\u001b[0m\u001b[1;33m:\u001b[0m\u001b[1;33m\u001b[0m\u001b[1;33m\u001b[0m\u001b[0m\n\u001b[0m\u001b[0;32m    546\u001b[0m     \u001b[1;34m\"\"\"Result is 2 on exception, 1 on True, 0 on False\"\"\"\u001b[0m\u001b[1;33m\u001b[0m\u001b[1;33m\u001b[0m\u001b[0m\n\u001b[0;32m    547\u001b[0m     \u001b[1;32mif\u001b[0m \u001b[0mresult\u001b[0m \u001b[1;33m==\u001b[0m \u001b[1;36m2\u001b[0m\u001b[1;33m:\u001b[0m\u001b[1;33m\u001b[0m\u001b[1;33m\u001b[0m\u001b[0m\n",
      "\u001b[1;31mKeyboardInterrupt\u001b[0m: "
     ]
    }
   ],
   "source": [
    "contador = 0\n",
    "while (1):\n",
    "        # finalizar si se a recorrido toda la imagen\n",
    "    if(offsetY >= raster.height and offsetX >= raster.width):\n",
    "        break\n",
    "     #cuando llegue al borde en el eje x, debo bajar(sumar en eje y) y debo volver a empezar setear offsetX en 0 y widthX en 100\n",
    "    elif(offsetX >= raster.width):\n",
    "        offsetY = offsetY + step\n",
    "        offsetX = 0\n",
    "        widthX = 100 \n",
    "   \n",
    "    #entregamos los pixeles para obtener las coordenadas\n",
    "    t = raster.xy(offsetX, offsetY)\n",
    "    l = raster.xy(offsetX + widthX , offsetY)\n",
    "    r = raster.xy(offsetX, offsetY+ widthY)\n",
    "    b = raster.xy(offsetX + widthX , offsetY + widthY)  \n",
    "    bbox = box(l[0], b[1], r[0], t[1])\n",
    "    \n",
    "    geo = gpd.GeoDataFrame({'geometry': bbox}, index=[0], crs=raster.crs)\n",
    "    coords = getFeatures(geo)\n",
    "    #print(coords)\n",
    "    \n",
    "    try:\n",
    "        #transformacion de la imagen\n",
    "#         out_img, out_transform = mask(raster, shapes=coords, crop=True)\n",
    "#         out_meta = raster.meta.copy()\n",
    "#         out_meta.update(\n",
    "#         {\"driver\": \"GTiff\",\n",
    "#               \"height\": 100,\n",
    "#               \"width\": 100,\n",
    "#               \"transform\": out_transform,\n",
    "#               \"crs\": raster.crs})\n",
    "#         with rasterio.open(\"train/salida\"+str(contador)+\".tif\", \"w\", **out_meta) as dest:\n",
    "#             dest.write(out_img)\n",
    "\n",
    "\n",
    "#         print(type(shape))\n",
    "#         print(type(geo))\n",
    "    #interseccion ptos\n",
    "        cantidad=geo.intersects(shape).value_counts()\n",
    "        if (True in cantidad.index):\n",
    "            numero = cantidad[True]\n",
    "        else:\n",
    "            numero = 0\n",
    "        cuentas.loc[contador] = [\"salida\"+str(contador)+\".tif\",numero]\n",
    "        if(contador%1000 == 0):\n",
    "            print(\"salida\"+str(contador)+\".tif\")\n",
    "\n",
    "        \n",
    "    except ValueError:\n",
    "        print(\"train/salida\"+str(contador)+\".tif\")\n",
    "#         print(coords)\n",
    "    contador = contador + 1\n",
    "    offsetX = offsetX + step \n",
    "   "
   ]
  },
  {
   "cell_type": "code",
   "execution_count": 19,
   "metadata": {},
   "outputs": [],
   "source": [
    "cuentas.to_csv('cuentas.csv',  encoding='utf-8')"
   ]
  }
 ],
 "metadata": {
  "kernelspec": {
   "display_name": "Python 3",
   "language": "python",
   "name": "python3"
  },
  "language_info": {
   "codemirror_mode": {
    "name": "ipython",
    "version": 3
   },
   "file_extension": ".py",
   "mimetype": "text/x-python",
   "name": "python",
   "nbconvert_exporter": "python",
   "pygments_lexer": "ipython3",
   "version": "3.6.8"
  }
 },
 "nbformat": 4,
 "nbformat_minor": 2
}
