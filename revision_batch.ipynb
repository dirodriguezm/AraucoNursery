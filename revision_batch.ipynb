{
 "cells": [
  {
   "cell_type": "code",
   "execution_count": 2,
   "metadata": {},
   "outputs": [],
   "source": [
    "%matplotlib inline\n",
    "import h5py\n",
    "import numpy as np\n",
    "import matplotlib.pyplot as plt\n",
    "import utilidades"
   ]
  },
  {
   "cell_type": "code",
   "execution_count": 3,
   "metadata": {},
   "outputs": [
    {
     "ename": "FileNotFoundError",
     "evalue": "[Errno 2] No such file or directory: 'epocas'",
     "output_type": "error",
     "traceback": [
      "\u001b[0;31m---------------------------------------------------------------------------\u001b[0m",
      "\u001b[0;31mFileNotFoundError\u001b[0m                         Traceback (most recent call last)",
      "\u001b[0;32m<ipython-input-3-c077e8f6d5ba>\u001b[0m in \u001b[0;36m<module>\u001b[0;34m\u001b[0m\n\u001b[0;32m----> 1\u001b[0;31m \u001b[0melementos\u001b[0m \u001b[0;34m=\u001b[0m \u001b[0mutilidades\u001b[0m\u001b[0;34m.\u001b[0m\u001b[0mls\u001b[0m\u001b[0;34m(\u001b[0m\u001b[0;34m\"epocas\"\u001b[0m\u001b[0;34m)\u001b[0m\u001b[0;34m\u001b[0m\u001b[0;34m\u001b[0m\u001b[0m\n\u001b[0m",
      "\u001b[0;32m/media/daniel/Respaldo/Memoria/AraucoNursery/utilidades.py\u001b[0m in \u001b[0;36mls\u001b[0;34m(ruta)\u001b[0m\n\u001b[1;32m    496\u001b[0m     \u001b[0;32mfrom\u001b[0m \u001b[0mos\u001b[0m \u001b[0;32mimport\u001b[0m \u001b[0mscandir\u001b[0m\u001b[0;34m,\u001b[0m \u001b[0mgetcwd\u001b[0m\u001b[0;34m\u001b[0m\u001b[0;34m\u001b[0m\u001b[0m\n\u001b[1;32m    497\u001b[0m     \u001b[0;32mfrom\u001b[0m \u001b[0mos\u001b[0m\u001b[0;34m.\u001b[0m\u001b[0mpath\u001b[0m \u001b[0;32mimport\u001b[0m \u001b[0mabspath\u001b[0m\u001b[0;34m\u001b[0m\u001b[0;34m\u001b[0m\u001b[0m\n\u001b[0;32m--> 498\u001b[0;31m     \u001b[0;32mreturn\u001b[0m \u001b[0;34m[\u001b[0m\u001b[0mabspath\u001b[0m\u001b[0;34m(\u001b[0m\u001b[0march\u001b[0m\u001b[0;34m.\u001b[0m\u001b[0mpath\u001b[0m\u001b[0;34m)\u001b[0m \u001b[0;32mfor\u001b[0m \u001b[0march\u001b[0m \u001b[0;32min\u001b[0m \u001b[0mscandir\u001b[0m\u001b[0;34m(\u001b[0m\u001b[0mruta\u001b[0m\u001b[0;34m)\u001b[0m \u001b[0;32mif\u001b[0m \u001b[0march\u001b[0m\u001b[0;34m.\u001b[0m\u001b[0mis_file\u001b[0m\u001b[0;34m(\u001b[0m\u001b[0;34m)\u001b[0m\u001b[0;34m]\u001b[0m\u001b[0;34m\u001b[0m\u001b[0;34m\u001b[0m\u001b[0m\n\u001b[0m",
      "\u001b[0;31mFileNotFoundError\u001b[0m: [Errno 2] No such file or directory: 'epocas'"
     ]
    }
   ],
   "source": [
    "elementos = utilidades.ls(\"epocas\")"
   ]
  },
  {
   "cell_type": "code",
   "execution_count": 6,
   "metadata": {},
   "outputs": [
    {
     "data": {
      "text/plain": [
       "['/home/daniel/AraucoNursery/epocas/epoca_2.h5',\n",
       " '/home/daniel/AraucoNursery/epocas/epoca_15.h5',\n",
       " '/home/daniel/AraucoNursery/epocas/epoca_4.h5',\n",
       " '/home/daniel/AraucoNursery/epocas/epoca_6.h5',\n",
       " '/home/daniel/AraucoNursery/epocas/epoca_12.h5',\n",
       " '/home/daniel/AraucoNursery/epocas/epoca_10.h5',\n",
       " '/home/daniel/AraucoNursery/epocas/epoca_13.h5',\n",
       " '/home/daniel/AraucoNursery/epocas/epoca_5.h5',\n",
       " '/home/daniel/AraucoNursery/epocas/epoca_19.h5',\n",
       " '/home/daniel/AraucoNursery/epocas/epoca_18.h5',\n",
       " '/home/daniel/AraucoNursery/epocas/epoca_14.h5',\n",
       " '/home/daniel/AraucoNursery/epocas/epoca_0.h5',\n",
       " '/home/daniel/AraucoNursery/epocas/epoca_8.h5',\n",
       " '/home/daniel/AraucoNursery/epocas/epoca_17.h5',\n",
       " '/home/daniel/AraucoNursery/epocas/epoca_11.h5',\n",
       " '/home/daniel/AraucoNursery/epocas/epoca_3.h5',\n",
       " '/home/daniel/AraucoNursery/epocas/epoca_7.h5',\n",
       " '/home/daniel/AraucoNursery/epocas/epoca_9.h5',\n",
       " '/home/daniel/AraucoNursery/epocas/epoca_16.h5',\n",
       " '/home/daniel/AraucoNursery/epocas/epoca_1.h5']"
      ]
     },
     "execution_count": 6,
     "metadata": {},
     "output_type": "execute_result"
    }
   ],
   "source": [
    "elementos"
   ]
  },
  {
   "cell_type": "code",
   "execution_count": 7,
   "metadata": {},
   "outputs": [],
   "source": [
    "h5s=[]\n",
    "for element in elementos:\n",
    "    hf = h5py.File(element, 'r')\n",
    "    h5s.append(hf)"
   ]
  },
  {
   "cell_type": "code",
   "execution_count": 18,
   "metadata": {},
   "outputs": [
    {
     "name": "stdout",
     "output_type": "stream",
     "text": [
      "<class 'h5py._hl.files.File'>\n",
      "937\n",
      "937\n",
      "<class 'h5py._hl.files.File'>\n",
      "937\n",
      "937\n",
      "<class 'h5py._hl.files.File'>\n",
      "937\n",
      "937\n",
      "<class 'h5py._hl.files.File'>\n",
      "937\n",
      "937\n",
      "<class 'h5py._hl.files.File'>\n",
      "937\n",
      "937\n",
      "<class 'h5py._hl.files.File'>\n",
      "937\n",
      "937\n",
      "<class 'h5py._hl.files.File'>\n",
      "937\n",
      "937\n",
      "<class 'h5py._hl.files.File'>\n",
      "937\n",
      "937\n",
      "<class 'h5py._hl.files.File'>\n",
      "937\n",
      "937\n",
      "<class 'h5py._hl.files.File'>\n",
      "937\n",
      "937\n",
      "<class 'h5py._hl.files.File'>\n",
      "937\n",
      "937\n",
      "<class 'h5py._hl.files.File'>\n",
      "937\n",
      "937\n",
      "<class 'h5py._hl.files.File'>\n",
      "937\n",
      "937\n",
      "<class 'h5py._hl.files.File'>\n",
      "937\n",
      "937\n",
      "<class 'h5py._hl.files.File'>\n",
      "937\n",
      "937\n",
      "<class 'h5py._hl.files.File'>\n",
      "937\n",
      "937\n",
      "<class 'h5py._hl.files.File'>\n",
      "937\n",
      "937\n",
      "<class 'h5py._hl.files.File'>\n",
      "937\n",
      "937\n",
      "<class 'h5py._hl.files.File'>\n",
      "937\n",
      "937\n",
      "<class 'h5py._hl.files.File'>\n",
      "937\n",
      "937\n"
     ]
    }
   ],
   "source": [
    "for element in h5s:\n",
    "    print(len(element[\"counts\"].value))\n",
    "    print(len(element[\"images\"].value))\n",
    "    "
   ]
  }
 ],
 "metadata": {
  "kernelspec": {
   "display_name": "Python 3",
   "language": "python",
   "name": "python3"
  },
  "language_info": {
   "codemirror_mode": {
    "name": "ipython",
    "version": 3
   },
   "file_extension": ".py",
   "mimetype": "text/x-python",
   "name": "python",
   "nbconvert_exporter": "python",
   "pygments_lexer": "ipython3",
   "version": "3.6.8"
  }
 },
 "nbformat": 4,
 "nbformat_minor": 2
}
