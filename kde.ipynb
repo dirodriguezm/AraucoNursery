{
 "cells": [
  {
   "cell_type": "code",
   "execution_count": 9,
   "metadata": {},
   "outputs": [],
   "source": [
    "import numpy as np\n",
    "import os\n",
    "import imageio\n",
    "import matplotlib.pyplot as plt"
   ]
  },
  {
   "cell_type": "code",
   "execution_count": 83,
   "metadata": {},
   "outputs": [],
   "source": [
    "def gaussian(x,b=0.3):\n",
    "    return np.array(np.exp(-x**2/(2*b**2))/(b*np.sqrt(2*np.pi)))"
   ]
  },
  {
   "cell_type": "code",
   "execution_count": 5,
   "metadata": {},
   "outputs": [],
   "source": [
    "ruta = \"/media/daniel/Respaldo/Memoria/Codigo/AraucoNursery/train_model/sessions/mcnn_color_1/logs/train/density_pred/\"\n",
    "os.chdir(ruta)"
   ]
  },
  {
   "cell_type": "code",
   "execution_count": 10,
   "metadata": {},
   "outputs": [
    {
     "data": {
      "text/plain": [
       "<matplotlib.image.AxesImage at 0x7f70111aee48>"
      ]
     },
     "execution_count": 10,
     "metadata": {},
     "output_type": "execute_result"
    },
    {
     "data": {
      "image/png": "[encoded data removed]",
      "text/plain": [
       "<Figure size 432x288 with 1 Axes>"
      ]
     },
     "metadata": {
      "needs_background": "light"
     },
     "output_type": "display_data"
    }
   ],
   "source": [
    "im = imageio.imread(\"image_00000.png\")\n",
    "plt.imshow(im, cmap='Greys_r')"
   ]
  },
  {
   "cell_type": "code",
   "execution_count": 12,
   "metadata": {},
   "outputs": [],
   "source": [
    "array = im.ravel()"
   ]
  },
  {
   "cell_type": "code",
   "execution_count": 49,
   "metadata": {},
   "outputs": [
    {
     "data": {
      "text/plain": [
       "(2500,)"
      ]
     },
     "execution_count": 49,
     "metadata": {},
     "output_type": "execute_result"
    }
   ],
   "source": [
    "density = gaussian(array,b=1)\n",
    "density.shape"
   ]
  },
  {
   "cell_type": "code",
   "execution_count": 18,
   "metadata": {},
   "outputs": [],
   "source": [
    "unique, counts = np.unique(array, return_counts=True)"
   ]
  },
  {
   "cell_type": "code",
   "execution_count": 39,
   "metadata": {},
   "outputs": [
    {
     "data": {
      "text/plain": [
       "{1: 268,\n",
       " 2: 4,\n",
       " 3: 5,\n",
       " 5: 2,\n",
       " 6: 5,\n",
       " 8: 6,\n",
       " 9: 5,\n",
       " 11: 8,\n",
       " 12: 7,\n",
       " 14: 6,\n",
       " 15: 1,\n",
       " 17: 6,\n",
       " 18: 4,\n",
       " 20: 5,\n",
       " 21: 3,\n",
       " 22: 2,\n",
       " 24: 6,\n",
       " 25: 5,\n",
       " 26: 6,\n",
       " 28: 1,\n",
       " 29: 4,\n",
       " 30: 14,\n",
       " 31: 2,\n",
       " 32: 4,\n",
       " 33: 9,\n",
       " 34: 9,\n",
       " 35: 8,\n",
       " 36: 5,\n",
       " 37: 6,\n",
       " 38: 10,\n",
       " 39: 7,\n",
       " 40: 6,\n",
       " 42: 10,\n",
       " 43: 8,\n",
       " 44: 9,\n",
       " 45: 8,\n",
       " 46: 2,\n",
       " 47: 5,\n",
       " 48: 9,\n",
       " 49: 9,\n",
       " 50: 5,\n",
       " 51: 6,\n",
       " 52: 4,\n",
       " 53: 8,\n",
       " 54: 8,\n",
       " 55: 8,\n",
       " 56: 3,\n",
       " 57: 9,\n",
       " 58: 11,\n",
       " 59: 8,\n",
       " 60: 8,\n",
       " 61: 13,\n",
       " 62: 4,\n",
       " 63: 8,\n",
       " 64: 9,\n",
       " 65: 9,\n",
       " 66: 11,\n",
       " 67: 14,\n",
       " 68: 287,\n",
       " 69: 25,\n",
       " 70: 43,\n",
       " 71: 55,\n",
       " 72: 36,\n",
       " 73: 2,\n",
       " 74: 4,\n",
       " 75: 5,\n",
       " 76: 1,\n",
       " 77: 3,\n",
       " 78: 3,\n",
       " 80: 2,\n",
       " 81: 5,\n",
       " 82: 3,\n",
       " 83: 4,\n",
       " 84: 271,\n",
       " 85: 7,\n",
       " 86: 1,\n",
       " 87: 6,\n",
       " 88: 4,\n",
       " 89: 1,\n",
       " 90: 7,\n",
       " 91: 10,\n",
       " 92: 10,\n",
       " 94: 8,\n",
       " 95: 9,\n",
       " 96: 3,\n",
       " 97: 9,\n",
       " 98: 3,\n",
       " 99: 7,\n",
       " 100: 4,\n",
       " 101: 4,\n",
       " 102: 7,\n",
       " 103: 6,\n",
       " 104: 3,\n",
       " 105: 4,\n",
       " 106: 6,\n",
       " 107: 7,\n",
       " 108: 7,\n",
       " 110: 3,\n",
       " 111: 5,\n",
       " 112: 9,\n",
       " 113: 2,\n",
       " 114: 8,\n",
       " 115: 6,\n",
       " 116: 5,\n",
       " 117: 8,\n",
       " 118: 8,\n",
       " 119: 3,\n",
       " 120: 3,\n",
       " 121: 2,\n",
       " 122: 7,\n",
       " 123: 8,\n",
       " 124: 11,\n",
       " 125: 6,\n",
       " 126: 8,\n",
       " 127: 4,\n",
       " 128: 5,\n",
       " 129: 10,\n",
       " 130: 5,\n",
       " 131: 6,\n",
       " 132: 8,\n",
       " 133: 8,\n",
       " 134: 6,\n",
       " 135: 12,\n",
       " 136: 6,\n",
       " 137: 18,\n",
       " 138: 16,\n",
       " 139: 15,\n",
       " 140: 19,\n",
       " 141: 34,\n",
       " 142: 33,\n",
       " 145: 1,\n",
       " 151: 1,\n",
       " 152: 2,\n",
       " 153: 1,\n",
       " 155: 1,\n",
       " 156: 2,\n",
       " 158: 1,\n",
       " 160: 1,\n",
       " 161: 1,\n",
       " 162: 1,\n",
       " 164: 1,\n",
       " 166: 1,\n",
       " 167: 1,\n",
       " 170: 2,\n",
       " 171: 1,\n",
       " 172: 1,\n",
       " 173: 1,\n",
       " 176: 1,\n",
       " 177: 1,\n",
       " 179: 1,\n",
       " 181: 1,\n",
       " 183: 1,\n",
       " 184: 1,\n",
       " 185: 1,\n",
       " 189: 1,\n",
       " 190: 2,\n",
       " 191: 1,\n",
       " 192: 1,\n",
       " 194: 1,\n",
       " 196: 1,\n",
       " 199: 1,\n",
       " 204: 1,\n",
       " 210: 1,\n",
       " 218: 1,\n",
       " 224: 1,\n",
       " 231: 1,\n",
       " 253: 1,\n",
       " 255: 625}"
      ]
     },
     "execution_count": 39,
     "metadata": {},
     "output_type": "execute_result"
    }
   ],
   "source": [
    "dict(zip(unique,counts))"
   ]
  },
  {
   "cell_type": "code",
   "execution_count": 15,
   "metadata": {},
   "outputs": [
    {
     "data": {
      "text/plain": [
       "(2500,)"
      ]
     },
     "execution_count": 15,
     "metadata": {},
     "output_type": "execute_result"
    }
   ],
   "source": [
    "density.shape"
   ]
  },
  {
   "cell_type": "code",
   "execution_count": 71,
   "metadata": {},
   "outputs": [
    {
     "data": {
      "text/plain": [
       "(2500,)"
      ]
     },
     "execution_count": 71,
     "metadata": {},
     "output_type": "execute_result"
    }
   ],
   "source": [
    "xs = np.linspace(0,1000,2500)\n",
    "xs.shape"
   ]
  },
  {
   "cell_type": "code",
   "execution_count": 74,
   "metadata": {},
   "outputs": [],
   "source": [
    "pdf = gaussian(density)"
   ]
  },
  {
   "cell_type": "code",
   "execution_count": 80,
   "metadata": {},
   "outputs": [
    {
     "data": {
      "text/plain": [
       "array([0., 0., 0., ..., 0., 0., 0.])"
      ]
     },
     "execution_count": 80,
     "metadata": {},
     "output_type": "execute_result"
    }
   ],
   "source": [
    "pdf"
   ]
  },
  {
   "cell_type": "code",
   "execution_count": 81,
   "metadata": {},
   "outputs": [
    {
     "data": {
      "text/plain": [
       "((2500,), (2500,))"
      ]
     },
     "execution_count": 81,
     "metadata": {},
     "output_type": "execute_result"
    }
   ],
   "source": [
    "xs.shape,pdf.shape"
   ]
  },
  {
   "cell_type": "code",
   "execution_count": 82,
   "metadata": {},
   "outputs": [
    {
     "data": {
      "image/png": "[encoded data removed]",
      "text/plain": [
       "<Figure size 432x288 with 1 Axes>"
      ]
     },
     "metadata": {
      "needs_background": "light"
     },
     "output_type": "display_data"
    }
   ],
   "source": [
    "plt.plot(xs, pdf, color='blue', alpha=0.5, lw=3)\n",
    "plt.show()"
   ]
  }
 ],
 "metadata": {
  "kernelspec": {
   "display_name": "Python 3",
   "language": "python",
   "name": "python3"
  },
  "language_info": {
   "codemirror_mode": {
    "name": "ipython",
    "version": 3
   },
   "file_extension": ".py",
   "mimetype": "text/x-python",
   "name": "python",
   "nbconvert_exporter": "python",
   "pygments_lexer": "ipython3",
   "version": "3.6.8"
  }
 },
 "nbformat": 4,
 "nbformat_minor": 2
}
